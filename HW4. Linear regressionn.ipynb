{
 "cells": [
  {
   "cell_type": "markdown",
   "id": "c201591a",
   "metadata": {
    "ExecuteTime": {
     "end_time": "2021-10-08T14:20:56.413092Z",
     "start_time": "2021-10-08T14:20:56.409316Z"
    }
   },
   "source": [
    "# Линейная регрессия"
   ]
  },
  {
   "cell_type": "markdown",
   "id": "178d8f7b",
   "metadata": {
    "ExecuteTime": {
     "end_time": "2021-10-08T14:20:56.413092Z",
     "start_time": "2021-10-08T14:20:56.409316Z"
    }
   },
   "source": [
    "В этом домашнем задании мы работаем с набором данных об уровне счастья в странах за 2019 год. Он доступен в репозитории или можно скачать с Kaggle [соревнования](https://www.kaggle.com/unsdsn/world-happiness?select=2019.csv)."
   ]
  },
  {
   "cell_type": "markdown",
   "id": "682c5672",
   "metadata": {
    "ExecuteTime": {
     "end_time": "2021-10-08T14:24:45.084860Z",
     "start_time": "2021-10-08T14:24:45.081379Z"
    }
   },
   "source": [
    "Все импорты помещаем сверху, под этой клеткой."
   ]
  },
  {
   "cell_type": "code",
   "execution_count": 1,
   "id": "e5bfeac9",
   "metadata": {},
   "outputs": [],
   "source": [
    "import pandas as pd\n",
    "import seaborn as sns\n",
    "import numpy as np\n",
    "import sklearn.model_selection\n",
    "from sklearn.preprocessing import MinMaxScaler\n",
    "import sklearn.metrics \n",
    "from sklearn.linear_model import LinearRegression\n",
    "from sklearn.preprocessing import PolynomialFeatures\n",
    "from sklearn.pipeline import Pipeline\n",
    "from sklearn.linear_model import ElasticNet\n",
    "from sklearn.model_selection import GridSearchCV\n",
    "from sklearn.datasets import fetch_california_housing\n",
    "import  sklearn.metrics\n",
    "from sklearn.model_selection import train_test_split"
   ]
  },
  {
   "cell_type": "markdown",
   "id": "d612bd8a",
   "metadata": {},
   "source": [
    "1.Считайте данные с помощью pandas в переменную `df`."
   ]
  },
  {
   "cell_type": "code",
   "execution_count": 2,
   "id": "ca3aeea7",
   "metadata": {},
   "outputs": [],
   "source": [
    "df = pd.read_csv('2019.csv')"
   ]
  },
  {
   "cell_type": "markdown",
   "id": "2b3cce20",
   "metadata": {
    "ExecuteTime": {
     "end_time": "2021-10-14T17:21:00.884611Z",
     "start_time": "2021-10-14T17:21:00.881566Z"
    }
   },
   "source": [
    "2.Выведите диаграмму рассеяния признаков `Score` и `GDP per capita` используя метод `regplot()` из `seaborn`."
   ]
  },
  {
   "cell_type": "code",
   "execution_count": 3,
   "id": "fa1a32b9",
   "metadata": {},
   "outputs": [
    {
     "data": {
      "image/png": "[encoded data removed]",
      "text/plain": [
       "<Figure size 432x288 with 1 Axes>"
      ]
     },
     "metadata": {
      "needs_background": "light"
     },
     "output_type": "display_data"
    }
   ],
   "source": [
    "sns.regplot(data = df, x = 'GDP per capita', y = 'Score');"
   ]
  },
  {
   "cell_type": "markdown",
   "id": "fe20c4f7",
   "metadata": {},
   "source": [
    "Мы будем моделировать эту зависимость. То есть независимой переменной является `GDP per capita`, зависимой `Score`. Судя по диаграмме рассеяния, зависимость между этими двумя переменными должна хорошо описываться линейной моделью."
   ]
  },
  {
   "cell_type": "markdown",
   "id": "fac2b15e",
   "metadata": {},
   "source": [
    "## Решение задачи линейной регрессии методом градиентного спуска"
   ]
  },
  {
   "cell_type": "markdown",
   "id": "c5f7382a",
   "metadata": {},
   "source": [
    "Обозначения:\n",
    "- `X` - матрица признаков\n",
    "- `y` - целевая переменная\n",
    "- `theta` - вектор параметров\n",
    "- `alpha` - темп обучения (learning rate)"
   ]
  },
  {
   "cell_type": "markdown",
   "id": "b0820ce0",
   "metadata": {
    "ExecuteTime": {
     "end_time": "2021-10-08T14:31:44.843127Z",
     "start_time": "2021-10-08T14:31:44.839958Z"
    }
   },
   "source": [
    "3.Реализуйте формулу предсказания линейной регрессии в методе `predict`. Метод возвращает предсказание. Напомню, что для каждого наблюдения из матрицы признаков предсказание находим с помощью следующей формулы:\n",
    "$$x \\in X, i \\in [1,m], j : \\\\ \\hat{y}_i = \\theta_0 + \\theta_1 x_1 + ... + \\theta_n x_n = \\theta^T x ,\\\\\n",
    "\\text{где m - количество наблюдений, } \\\\ \n",
    "\\text{n - количество признаков, } \\\\\n",
    "x_0 = 1 \\ \\text{для всех наблюдений}.\n",
    "$$\n",
    "\n",
    "Предсказания для всех наблюдений в матрице Х можем найти как матрица признаков умноженная на веса."
   ]
  },
  {
   "cell_type": "code",
   "execution_count": 4,
   "id": "a9f34e8f",
   "metadata": {
    "ExecuteTime": {
     "end_time": "2021-10-08T14:30:30.020347Z",
     "start_time": "2021-10-08T14:30:30.017723Z"
    }
   },
   "outputs": [],
   "source": [
    "def predict(X, theta):\n",
    "    prdiction = 0\n",
    "    prdiction = np.dot(theta.T, X.T)\n",
    "    return prdiction"
   ]
  },
  {
   "cell_type": "markdown",
   "id": "dc68bc0e",
   "metadata": {},
   "source": [
    "4.Дополните вычисление значения функции затрат, формула которой приведена в слайдах лекции о линейной регрессии (подсказка - формула такая же, как если бы мы считали среднеквадратичную ошибку).   \n",
    "Метод `cost()` принимает вектор параметров `theta`, матрицу наших признаков `X` и реальные значения  целевой переменной `y`.\n"
   ]
  },
  {
   "cell_type": "code",
   "execution_count": 5,
   "id": "b8e63ce7",
   "metadata": {
    "ExecuteTime": {
     "end_time": "2021-10-08T20:45:54.974985Z",
     "start_time": "2021-10-08T20:45:54.972316Z"
    }
   },
   "outputs": [],
   "source": [
    "def cost(theta, X, y):\n",
    "    m = len(y)\n",
    "    predictions = predict(X, theta)\n",
    "    cost =  np.sum(np.subtract(np.dot(theta.T,X.T).T,y)**2)/(2*m) # ваш код тут\n",
    "    return cost"
   ]
  },
  {
   "cell_type": "markdown",
   "id": "64975088",
   "metadata": {},
   "source": [
    "5.Дополните методы `get_gradient()` и `gradient_descent()`, которые позволят реализовать  алгоритм градиетного спуска. \n",
    "- Метод `get_gradient()` возвращает \n",
    "    - вектор частных производных функции затрат по каждому из параметров линейной регрессии\n",
    "    - среднеквадратичное отклонение прогноза от факта с параметрами на данном шаге (это дополнительная информация, её можно было бы вынести из метода get_gradient, но я вам предлагаю работать с такой реализацией).\n",
    "- Метод `gradient_descent()` реализовует градиентый спуск в задаче линейной регрессии. В ходе градиентного спука мы обновляем параметры согласно формуле: \n",
    "$$\n",
    "\\text{для каждого} \\ j \\in [0, n]: \\quad \\theta_j := \\theta_j - \\alpha \\frac{\\partial}{\\partial \\theta_j}J(\\theta), \\\\ \n",
    "\\text{где n - количество признаков}\n",
    "$$\n",
    "    Метод градиентного спуска обновляет веса (модель обучается) пока они не перестанут меняться от итерации к итерации, то есть пока расстояние между векторами весов за последние две итерации не будет менее небольшой константы (обычно обозначается как $\\epsilon$ (эпсилон), мы установим $\\epsilon=10^{-6}$).\n",
    "\n",
    "Заполните все места, где стоят троеточия. Используйте реализованные в предыдущих заданиях методы `cost()` и `predict()`."
   ]
  },
  {
   "cell_type": "code",
   "execution_count": 6,
   "id": "6aaba898",
   "metadata": {},
   "outputs": [],
   "source": [
    "def get_gradient(theta, X, y):\n",
    "    y_estimate = predict(X, theta).T # ваш код тут\n",
    "    error = y - y_estimate\n",
    "    gradient = -(1.0/len(X)) * X.T.dot(error)\n",
    "    mean_squared_error = cost(theta, X, y) #ваш код тут\n",
    "    return gradient, mean_squared_error"
   ]
  },
  {
   "cell_type": "code",
   "execution_count": 7,
   "id": "4062f8df",
   "metadata": {
    "ExecuteTime": {
     "end_time": "2022-01-23T14:33:36.235226Z",
     "start_time": "2022-01-23T14:33:36.199550Z"
    }
   },
   "outputs": [],
   "source": [
    "def gradient_descent(X, y, theta, learning_rate, eps, max_iterations):\n",
    "    cost_history = []\n",
    "    theta_history = []\n",
    "    iterations = 1\n",
    "    while True:\n",
    "        gradient, error = get_gradient(theta, X, y)\n",
    "        cost_history.append(error)\n",
    "        new_theta = theta - learning_rate * gradient\n",
    "        theta_history.append(new_theta)\n",
    "        # Условие остановки\n",
    "        if np.sum(error) < eps:\n",
    "            print( \"Алгоритм сошёлся.\")\n",
    "            break\n",
    "            \n",
    "        # Второе условие остановки\n",
    "        if iterations >= max_iterations:\n",
    "            print(\"Достигнуто максимальное число итераций\")\n",
    "            break\n",
    "\n",
    "        # Выводим информацию каждые 100 итераций\n",
    "        #if iterations % 100 == 0:\n",
    "             #print (\"Итерация: %d - Ошибка на трейн данных: %.4f\" %(iterations, error))\n",
    "\n",
    "        iterations += 1\n",
    "        theta = new_theta\n",
    "    return theta, cost_history, theta_history, iterations\n"
   ]
  },
  {
   "cell_type": "markdown",
   "id": "2cefb83e",
   "metadata": {},
   "source": [
    "Подготовим данные."
   ]
  },
  {
   "cell_type": "code",
   "execution_count": 8,
   "id": "fdbb2770",
   "metadata": {
    "ExecuteTime": {
     "end_time": "2021-10-10T19:28:00.717047Z",
     "start_time": "2021-10-10T19:28:00.714364Z"
    }
   },
   "outputs": [],
   "source": [
    "X = df['GDP per capita'].values.reshape(-1,1)\n",
    "y = df['Score'].values.reshape(-1,1)"
   ]
  },
  {
   "cell_type": "markdown",
   "id": "12fb7483",
   "metadata": {},
   "source": [
    "6.Разделите `X` и `y` на `train` и `test` подвыборки в соотношении 80/20. Поскольку у нас мало данных, валидационную выборку выделять не будем. Запишите результаты в `X_train`, `y_train`, `X_test`, `y_test`."
   ]
  },
  {
   "cell_type": "code",
   "execution_count": 9,
   "id": "e79d3842",
   "metadata": {},
   "outputs": [],
   "source": [
    "X_train, X_test, y_train, y_test = train_test_split(X,y, test_size = 0.2, random_state = 42)"
   ]
  },
  {
   "cell_type": "markdown",
   "id": "f54c99e4",
   "metadata": {},
   "source": [
    "7.Реализуйте масштабирование признаков с использованием `MinMaxScaler`. Помните о том, как мы применяем масштабирование признаков на `train` и `test` выборках."
   ]
  },
  {
   "cell_type": "code",
   "execution_count": 10,
   "id": "d2f92029",
   "metadata": {},
   "outputs": [
    {
     "data": {
      "text/plain": [
       "array([[0.66508314],\n",
       "       [0.16330166],\n",
       "       [0.54691211],\n",
       "       [0.15914489],\n",
       "       [0.22862233],\n",
       "       [0.402019  ],\n",
       "       [0.58491686],\n",
       "       [0.47505938],\n",
       "       [0.48159145],\n",
       "       [0.72505938],\n",
       "       [0.20783848],\n",
       "       [0.8087886 ],\n",
       "       [0.85391924],\n",
       "       [0.63539192],\n",
       "       [0.19714964],\n",
       "       [0.62470309],\n",
       "       [0.61401425],\n",
       "       [0.4608076 ],\n",
       "       [0.70249406],\n",
       "       [0.33372922],\n",
       "       [0.83313539],\n",
       "       [0.52612827],\n",
       "       [0.22565321],\n",
       "       [0.73515439],\n",
       "       [0.82897862],\n",
       "       [0.66745843],\n",
       "       [0.32719715],\n",
       "       [0.12114014],\n",
       "       [0.72505938],\n",
       "       [0.81532067],\n",
       "       [0.3675772 ],\n",
       "       [0.81472684],\n",
       "       [0.2672209 ],\n",
       "       [0.11342043],\n",
       "       [0.79572447],\n",
       "       [0.        ],\n",
       "       [0.57007126],\n",
       "       [0.41211401],\n",
       "       [0.70130641],\n",
       "       [1.        ],\n",
       "       [0.44239905],\n",
       "       [0.57007126],\n",
       "       [0.68824228],\n",
       "       [0.78622328],\n",
       "       [0.39014252],\n",
       "       [0.71615202],\n",
       "       [0.41330166],\n",
       "       [0.02731591],\n",
       "       [0.2131829 ],\n",
       "       [0.16270784],\n",
       "       [0.69002375],\n",
       "       [0.5219715 ],\n",
       "       [0.7131829 ],\n",
       "       [0.29275534],\n",
       "       [0.93349169],\n",
       "       [0.29038005],\n",
       "       [0.21733967],\n",
       "       [0.50771971],\n",
       "       [0.01543943],\n",
       "       [0.3260095 ],\n",
       "       [0.77256532],\n",
       "       [0.86223278],\n",
       "       [0.34085511],\n",
       "       [0.05581948],\n",
       "       [0.5415677 ],\n",
       "       [0.76840855],\n",
       "       [0.63361045],\n",
       "       [0.5611639 ],\n",
       "       [0.47149644],\n",
       "       [0.64845606],\n",
       "       [0.77375297],\n",
       "       [0.74703088],\n",
       "       [0.4067696 ],\n",
       "       [0.08194774],\n",
       "       [0.55285036],\n",
       "       [0.58372922],\n",
       "       [0.04334917],\n",
       "       [0.16270784],\n",
       "       [0.61935867],\n",
       "       [0.81057007],\n",
       "       [0.95546318],\n",
       "       [0.69655582],\n",
       "       [0.19952494],\n",
       "       [0.81947743],\n",
       "       [0.80522565],\n",
       "       [0.73099762],\n",
       "       [0.62410926],\n",
       "       [0.54216152],\n",
       "       [0.8236342 ],\n",
       "       [0.3432304 ],\n",
       "       [0.49703088],\n",
       "       [0.88361045],\n",
       "       [0.304038  ],\n",
       "       [0.75      ],\n",
       "       [0.50475059],\n",
       "       [0.73456057],\n",
       "       [0.57007126],\n",
       "       [0.89073634],\n",
       "       [0.20783848],\n",
       "       [0.38123515],\n",
       "       [0.75      ],\n",
       "       [0.47565321],\n",
       "       [0.7719715 ],\n",
       "       [0.78800475],\n",
       "       [0.17042755],\n",
       "       [0.56353919],\n",
       "       [0.73990499],\n",
       "       [0.19180523],\n",
       "       [0.82125891],\n",
       "       [0.70486936],\n",
       "       [0.4216152 ],\n",
       "       [0.62767221],\n",
       "       [0.26484561],\n",
       "       [0.65320665],\n",
       "       [0.59501188],\n",
       "       [0.68586698],\n",
       "       [0.33847981],\n",
       "       [0.18171021],\n",
       "       [0.89251781],\n",
       "       [0.61995249],\n",
       "       [0.56235154],\n",
       "       [0.7915677 ],\n",
       "       [0.61104513],\n",
       "       [0.39964371]])"
      ]
     },
     "execution_count": 10,
     "metadata": {},
     "output_type": "execute_result"
    }
   ],
   "source": [
    "scaler = MinMaxScaler()\n",
    "scaler.fit(X_train)\n",
    "scaler.transform(X_train)"
   ]
  },
  {
   "cell_type": "markdown",
   "id": "832cd76a",
   "metadata": {},
   "source": [
    "8.Добавьте колонку из единичек в массивы `X_train`, `X_test`."
   ]
  },
  {
   "cell_type": "code",
   "execution_count": 11,
   "id": "7722e7d4",
   "metadata": {},
   "outputs": [],
   "source": [
    "X_train = np.hstack((np.ones_like(X_train),X_train))\n",
    "X_test = np.hstack((np.ones_like(X_test),X_test))"
   ]
  },
  {
   "cell_type": "markdown",
   "id": "bf927241",
   "metadata": {},
   "source": [
    "9.Установите темп обучения равный 0.01, точность эпсилон равный $10^{-6}$, количество итераций равное 20000 и запустите градиентный спуск на тренировочных данных, передав все необходимые параметры."
   ]
  },
  {
   "cell_type": "code",
   "execution_count": 12,
   "id": "ed756079",
   "metadata": {
    "ExecuteTime": {
     "end_time": "2021-10-08T20:20:00.992990Z",
     "start_time": "2021-10-08T20:20:00.989771Z"
    }
   },
   "outputs": [
    {
     "name": "stdout",
     "output_type": "stream",
     "text": [
      "Достигнуто максимальное число итераций\n"
     ]
    }
   ],
   "source": [
    "learning_rate = 0.01\n",
    "max_iterations = 20000\n",
    "epsilon = 1E-6\n",
    "\n",
    "theta = np.random.randn(2,1)\n",
    "\n",
    "theta, cost_history, theta_history, iterations = gradient_descent(X_train, y_train, theta, learning_rate, epsilon, max_iterations)"
   ]
  },
  {
   "cell_type": "markdown",
   "id": "763cd65b",
   "metadata": {},
   "source": [
    "10.Отобразите на линейном графике значения переменной `cost_history`. Используйте любую библиотеку для визуализации на ваш выбор."
   ]
  },
  {
   "cell_type": "code",
   "execution_count": 13,
   "id": "9bdacbfa",
   "metadata": {},
   "outputs": [
    {
     "data": {
      "image/png": "[encoded data removed]",
      "text/plain": [
       "<Figure size 432x288 with 1 Axes>"
      ]
     },
     "metadata": {
      "needs_background": "light"
     },
     "output_type": "display_data"
    }
   ],
   "source": [
    "pd.DataFrame(cost_history).plot();"
   ]
  },
  {
   "cell_type": "markdown",
   "id": "f25e7b8e",
   "metadata": {
    "ExecuteTime": {
     "end_time": "2021-10-08T14:56:41.741952Z",
     "start_time": "2021-10-08T14:56:41.738456Z"
    }
   },
   "source": [
    "Отобразите только первые 500 итераций. Похоже, после них модель мало обучается. Мы могли бы применить технику ранней остановки в данном случае и остановиться на некотором небольшом количестве итераций. Обычно эта техника применяется, чтоб избежать переобучения. При этом теряется немного точности на тренировочном наборе данных."
   ]
  },
  {
   "cell_type": "code",
   "execution_count": 14,
   "id": "a0faa843",
   "metadata": {},
   "outputs": [
    {
     "data": {
      "image/png": "[encoded data removed]",
      "text/plain": [
       "<Figure size 432x288 with 1 Axes>"
      ]
     },
     "metadata": {
      "needs_background": "light"
     },
     "output_type": "display_data"
    }
   ],
   "source": [
    "pd.DataFrame(cost_history[:500]).plot();"
   ]
  },
  {
   "cell_type": "markdown",
   "id": "1b03a7de",
   "metadata": {},
   "source": [
    "Выведем полученные параметры и последнее значение функции затрат."
   ]
  },
  {
   "cell_type": "code",
   "execution_count": 15,
   "id": "a4b599fc",
   "metadata": {
    "ExecuteTime": {
     "end_time": "2021-10-08T20:48:05.893974Z",
     "start_time": "2021-10-08T20:48:05.890650Z"
    }
   },
   "outputs": [
    {
     "name": "stdout",
     "output_type": "stream",
     "text": [
      "Theta0:          3.421,\n",
      "Theta1:          2.203\n",
      "Final cost/MSE:  0.221\n",
      "Number of iterateions: 20000\n"
     ]
    }
   ],
   "source": [
    "print('Theta0:          {:0.3f},\\nTheta1:          {:0.3f}'.format(theta[0][-1],theta[1][-1]))\n",
    "print('Final cost/MSE:  {:0.3f}'.format(cost_history[-1]))\n",
    "print('Number of iterateions: {:d}'.format(iterations))"
   ]
  },
  {
   "cell_type": "markdown",
   "id": "cc4ed3c4",
   "metadata": {},
   "source": [
    "11.Реализуйте метод `mean_squared_error` согласно формуле в лекции. Его релализация похожа на метод `cost_function`, но другие входящие переменные."
   ]
  },
  {
   "cell_type": "code",
   "execution_count": 16,
   "id": "80a4c340",
   "metadata": {},
   "outputs": [],
   "source": [
    "def my_mean_squared_error(y_true, y_predicted):\n",
    "    error =  ((y_true - y_predicted)**2).mean()\n",
    "    return error"
   ]
  },
  {
   "cell_type": "markdown",
   "id": "4b900aa2",
   "metadata": {},
   "source": [
    "12.Найдите прогнозы на `X_train_df`, `X_test_df` и посчитайте ошибку прогнозов на обеих подвыборках."
   ]
  },
  {
   "cell_type": "code",
   "execution_count": 17,
   "id": "92c350ea",
   "metadata": {},
   "outputs": [
    {
     "name": "stdout",
     "output_type": "stream",
     "text": [
      "Достигнуто максимальное число итераций\n",
      "Достигнуто максимальное число итераций\n"
     ]
    }
   ],
   "source": [
    "learning_rate = 0.01\n",
    "max_iterations = 20000\n",
    "epsilon = 1E-6\n",
    "\n",
    "theta = np.random.randn(2,1)\n",
    "\n",
    "theta_train, cost_history, theta_history, iterations = gradient_descent(X_train, y_train, theta, learning_rate, epsilon, max_iterations)\n",
    "y_grad_train = theta_train.T.dot(X_train.T)\n",
    "mse_train = my_mean_squared_error(y_train, y_grad_train )\n",
    "\n",
    "theta_test, cost_history, theta_history, iterations = gradient_descent(X_test, y_test, theta, learning_rate, epsilon, max_iterations)\n",
    "y_grad_test = theta_test.T.dot(X_test.T)\n",
    "mse_test = my_mean_squared_error(y_test, y_grad_test)"
   ]
  },
  {
   "cell_type": "code",
   "execution_count": 18,
   "id": "49e294b1",
   "metadata": {},
   "outputs": [
    {
     "name": "stdout",
     "output_type": "stream",
     "text": [
      "MSE Train 2.1171995606070997\n",
      "MSE Test  1.5768722664234351\n"
     ]
    }
   ],
   "source": [
    "print('MSE Train', mse_train)\n",
    "print('MSE Test ',mse_test)"
   ]
  },
  {
   "cell_type": "markdown",
   "id": "e5de21d1",
   "metadata": {
    "ExecuteTime": {
     "end_time": "2021-10-08T15:02:52.150262Z",
     "start_time": "2021-10-08T15:02:52.146946Z"
    }
   },
   "source": [
    "13.Выведите диаграмму рассеяния признаков `Score` и `GDP per capita` и добавьте линию прогноза модели"
   ]
  },
  {
   "cell_type": "code",
   "execution_count": 19,
   "id": "8898cd78",
   "metadata": {},
   "outputs": [],
   "source": [
    "data1 = pd.DataFrame(X_train[:,1], columns = ['GDP per capita'])\n",
    "data1['Data'] = 'train'\n",
    "data1['Score'] = y_train\n",
    "data1['Pred'] = y_grad_train.reshape(-1,1)\n",
    "data2 = pd.DataFrame(X_test[:,1], columns = ['GDP per capita'])\n",
    "data2['Data'] = 'test'\n",
    "data2['Score'] = y_test\n",
    "data2['Pred'] = y_grad_test.reshape(-1,1)\n",
    "data = pd.concat([data1, data2],ignore_index=True)"
   ]
  },
  {
   "cell_type": "code",
   "execution_count": 20,
   "id": "d9da5733",
   "metadata": {},
   "outputs": [
    {
     "data": {
      "image/png": "[encoded data removed]",
      "text/plain": [
       "<Figure size 432x288 with 1 Axes>"
      ]
     },
     "metadata": {
      "needs_background": "light"
     },
     "output_type": "display_data"
    }
   ],
   "source": [
    "sns.scatterplot(data=data, x=\"GDP per capita\", y=\"Score\", hue = 'Data');\n",
    "sns.lineplot(data=data, x=\"GDP per capita\", y=\"Pred\", color = 'red');"
   ]
  },
  {
   "cell_type": "markdown",
   "id": "7c55cead",
   "metadata": {},
   "source": [
    "14.Обучите линейную регрессию на наборе данных состоящем только из признака `GDP per capita`, но теперь используя LinearRegression из sklearn.   \n",
    "Подумайте, надо ли в sklearn модель подавать колонку из единичек, которую мы подавали в самописную модель."
   ]
  },
  {
   "cell_type": "code",
   "execution_count": 21,
   "id": "cc1fd861",
   "metadata": {},
   "outputs": [],
   "source": [
    "lr = LinearRegression().fit(X_train,y_train)\n",
    "y_lr_test = lr.predict(X_test)"
   ]
  },
  {
   "cell_type": "markdown",
   "id": "9ff8707d",
   "metadata": {},
   "source": [
    "Сравните ошибку на тестовой выборке линейной регрессии, написанной вами, и из sklearn. Есть ли разница в значениях?"
   ]
  },
  {
   "cell_type": "code",
   "execution_count": 22,
   "id": "e86662ec",
   "metadata": {},
   "outputs": [
    {
     "data": {
      "image/png": "[encoded data removed]",
      "text/plain": [
       "<Figure size 432x288 with 1 Axes>"
      ]
     },
     "metadata": {
      "needs_background": "light"
     },
     "output_type": "display_data"
    }
   ],
   "source": [
    "models_pred = pd.DataFrame(y_grad_test.reshape(-1,1), columns = ['Gradient'])\n",
    "models_pred['Linear Model One Feature'] = y_lr_test\n",
    "models_pred.plot();"
   ]
  },
  {
   "cell_type": "markdown",
   "id": "61e8299b",
   "metadata": {},
   "source": [
    "15.Обучим линейную регрессию на большем количестве признаков и посмотрим, удастся ли улучшить модель."
   ]
  },
  {
   "cell_type": "markdown",
   "id": "a4e10ab5",
   "metadata": {
    "ExecuteTime": {
     "end_time": "2021-10-14T16:54:08.159686Z",
     "start_time": "2021-10-14T16:54:08.152242Z"
    }
   },
   "source": [
    "15.1.Обучите линейную регрессию из sklearn используя в качестве набора признаков следующий: `GDP per capita`, `Social support`, `Healthy life expectancy`, `Freedom to make life choices`, `Generosity`, `Perceptions of corruption`\n",
    "\n",
    "Не забудьте:  \n",
    "1. Разделить на `train` и `test`.\n",
    "2. Нормировать каждую колонку данных.  "
   ]
  },
  {
   "cell_type": "code",
   "execution_count": 23,
   "id": "69958ca9",
   "metadata": {},
   "outputs": [],
   "source": [
    "X=df.iloc[:,3:]\n",
    "X_train, X_test, y_train, y_test = train_test_split(X,y, test_size = 0.2, random_state = 42)"
   ]
  },
  {
   "cell_type": "markdown",
   "id": "8d8e3625",
   "metadata": {},
   "source": [
    "15.2.Выведите ошибку прогноза на `train` и `test` выборках. Сравните с результатом, полученным при обучении на одном признаке. Изменились ли метрики?"
   ]
  },
  {
   "cell_type": "code",
   "execution_count": 24,
   "id": "95591a90",
   "metadata": {},
   "outputs": [
    {
     "name": "stdout",
     "output_type": "stream",
     "text": [
      "0.4144641383528351\n",
      "0.2364699215592196\n"
     ]
    },
    {
     "data": {
      "text/html": [
       "<div>\n",
       "<style scoped>\n",
       "    .dataframe tbody tr th:only-of-type {\n",
       "        vertical-align: middle;\n",
       "    }\n",
       "\n",
       "    .dataframe tbody tr th {\n",
       "        vertical-align: top;\n",
       "    }\n",
       "\n",
       "    .dataframe thead th {\n",
       "        text-align: right;\n",
       "    }\n",
       "</style>\n",
       "<table border=\"1\" class=\"dataframe\">\n",
       "  <thead>\n",
       "    <tr style=\"text-align: right;\">\n",
       "      <th></th>\n",
       "      <th>Gradient</th>\n",
       "      <th>Linear Model One Feature</th>\n",
       "      <th>Linear Model with 6 features</th>\n",
       "    </tr>\n",
       "  </thead>\n",
       "  <tbody>\n",
       "    <tr>\n",
       "      <th>0</th>\n",
       "      <td>5.807393</td>\n",
       "      <td>5.826836</td>\n",
       "      <td>5.744205</td>\n",
       "    </tr>\n",
       "    <tr>\n",
       "      <th>1</th>\n",
       "      <td>5.601804</td>\n",
       "      <td>5.632972</td>\n",
       "      <td>5.565118</td>\n",
       "    </tr>\n",
       "    <tr>\n",
       "      <th>2</th>\n",
       "      <td>5.470974</td>\n",
       "      <td>5.509605</td>\n",
       "      <td>5.608903</td>\n",
       "    </tr>\n",
       "    <tr>\n",
       "      <th>3</th>\n",
       "      <td>5.627502</td>\n",
       "      <td>5.657205</td>\n",
       "      <td>5.908528</td>\n",
       "    </tr>\n",
       "    <tr>\n",
       "      <th>4</th>\n",
       "      <td>4.029511</td>\n",
       "      <td>4.150358</td>\n",
       "      <td>4.268558</td>\n",
       "    </tr>\n",
       "    <tr>\n",
       "      <th>5</th>\n",
       "      <td>6.260625</td>\n",
       "      <td>6.254216</td>\n",
       "      <td>6.262930</td>\n",
       "    </tr>\n",
       "    <tr>\n",
       "      <th>6</th>\n",
       "      <td>5.155581</td>\n",
       "      <td>5.212201</td>\n",
       "      <td>5.578697</td>\n",
       "    </tr>\n",
       "    <tr>\n",
       "      <th>7</th>\n",
       "      <td>5.171935</td>\n",
       "      <td>5.227622</td>\n",
       "      <td>5.154871</td>\n",
       "    </tr>\n",
       "    <tr>\n",
       "      <th>8</th>\n",
       "      <td>4.987371</td>\n",
       "      <td>5.053585</td>\n",
       "      <td>5.748658</td>\n",
       "    </tr>\n",
       "    <tr>\n",
       "      <th>9</th>\n",
       "      <td>5.020079</td>\n",
       "      <td>5.084427</td>\n",
       "      <td>4.758987</td>\n",
       "    </tr>\n",
       "    <tr>\n",
       "      <th>10</th>\n",
       "      <td>6.220908</td>\n",
       "      <td>6.216765</td>\n",
       "      <td>6.186437</td>\n",
       "    </tr>\n",
       "    <tr>\n",
       "      <th>11</th>\n",
       "      <td>5.562087</td>\n",
       "      <td>5.595521</td>\n",
       "      <td>5.216273</td>\n",
       "    </tr>\n",
       "    <tr>\n",
       "      <th>12</th>\n",
       "      <td>6.758245</td>\n",
       "      <td>6.723454</td>\n",
       "      <td>6.974821</td>\n",
       "    </tr>\n",
       "    <tr>\n",
       "      <th>13</th>\n",
       "      <td>5.692917</td>\n",
       "      <td>5.718889</td>\n",
       "      <td>4.834618</td>\n",
       "    </tr>\n",
       "    <tr>\n",
       "      <th>14</th>\n",
       "      <td>6.452197</td>\n",
       "      <td>6.434862</td>\n",
       "      <td>6.147862</td>\n",
       "    </tr>\n",
       "    <tr>\n",
       "      <th>15</th>\n",
       "      <td>5.940559</td>\n",
       "      <td>5.952406</td>\n",
       "      <td>6.156544</td>\n",
       "    </tr>\n",
       "    <tr>\n",
       "      <th>16</th>\n",
       "      <td>3.975777</td>\n",
       "      <td>4.099689</td>\n",
       "      <td>4.425947</td>\n",
       "    </tr>\n",
       "    <tr>\n",
       "      <th>17</th>\n",
       "      <td>4.174358</td>\n",
       "      <td>4.286944</td>\n",
       "      <td>3.673135</td>\n",
       "    </tr>\n",
       "    <tr>\n",
       "      <th>18</th>\n",
       "      <td>4.368266</td>\n",
       "      <td>4.469792</td>\n",
       "      <td>4.583406</td>\n",
       "    </tr>\n",
       "    <tr>\n",
       "      <th>19</th>\n",
       "      <td>6.019991</td>\n",
       "      <td>6.027308</td>\n",
       "      <td>5.558648</td>\n",
       "    </tr>\n",
       "    <tr>\n",
       "      <th>20</th>\n",
       "      <td>4.585537</td>\n",
       "      <td>4.674670</td>\n",
       "      <td>4.116539</td>\n",
       "    </tr>\n",
       "    <tr>\n",
       "      <th>21</th>\n",
       "      <td>6.604053</td>\n",
       "      <td>6.578056</td>\n",
       "      <td>6.390905</td>\n",
       "    </tr>\n",
       "    <tr>\n",
       "      <th>22</th>\n",
       "      <td>6.237262</td>\n",
       "      <td>6.232186</td>\n",
       "      <td>6.234910</td>\n",
       "    </tr>\n",
       "    <tr>\n",
       "      <th>23</th>\n",
       "      <td>6.470887</td>\n",
       "      <td>6.452485</td>\n",
       "      <td>6.717980</td>\n",
       "    </tr>\n",
       "    <tr>\n",
       "      <th>24</th>\n",
       "      <td>5.601804</td>\n",
       "      <td>5.632972</td>\n",
       "      <td>5.788629</td>\n",
       "    </tr>\n",
       "    <tr>\n",
       "      <th>25</th>\n",
       "      <td>5.041105</td>\n",
       "      <td>5.104254</td>\n",
       "      <td>5.236592</td>\n",
       "    </tr>\n",
       "    <tr>\n",
       "      <th>26</th>\n",
       "      <td>5.141563</td>\n",
       "      <td>5.198983</td>\n",
       "      <td>5.604347</td>\n",
       "    </tr>\n",
       "    <tr>\n",
       "      <th>27</th>\n",
       "      <td>5.197633</td>\n",
       "      <td>5.251854</td>\n",
       "      <td>5.820436</td>\n",
       "    </tr>\n",
       "    <tr>\n",
       "      <th>28</th>\n",
       "      <td>5.709271</td>\n",
       "      <td>5.734310</td>\n",
       "      <td>6.064973</td>\n",
       "    </tr>\n",
       "    <tr>\n",
       "      <th>29</th>\n",
       "      <td>4.683659</td>\n",
       "      <td>4.767196</td>\n",
       "      <td>4.470656</td>\n",
       "    </tr>\n",
       "    <tr>\n",
       "      <th>30</th>\n",
       "      <td>5.316782</td>\n",
       "      <td>5.364207</td>\n",
       "      <td>5.503557</td>\n",
       "    </tr>\n",
       "    <tr>\n",
       "      <th>31</th>\n",
       "      <td>5.688245</td>\n",
       "      <td>5.714483</td>\n",
       "      <td>5.300736</td>\n",
       "    </tr>\n",
       "  </tbody>\n",
       "</table>\n",
       "</div>"
      ],
      "text/plain": [
       "    Gradient  Linear Model One Feature  Linear Model with 6 features\n",
       "0   5.807393                  5.826836                      5.744205\n",
       "1   5.601804                  5.632972                      5.565118\n",
       "2   5.470974                  5.509605                      5.608903\n",
       "3   5.627502                  5.657205                      5.908528\n",
       "4   4.029511                  4.150358                      4.268558\n",
       "5   6.260625                  6.254216                      6.262930\n",
       "6   5.155581                  5.212201                      5.578697\n",
       "7   5.171935                  5.227622                      5.154871\n",
       "8   4.987371                  5.053585                      5.748658\n",
       "9   5.020079                  5.084427                      4.758987\n",
       "10  6.220908                  6.216765                      6.186437\n",
       "11  5.562087                  5.595521                      5.216273\n",
       "12  6.758245                  6.723454                      6.974821\n",
       "13  5.692917                  5.718889                      4.834618\n",
       "14  6.452197                  6.434862                      6.147862\n",
       "15  5.940559                  5.952406                      6.156544\n",
       "16  3.975777                  4.099689                      4.425947\n",
       "17  4.174358                  4.286944                      3.673135\n",
       "18  4.368266                  4.469792                      4.583406\n",
       "19  6.019991                  6.027308                      5.558648\n",
       "20  4.585537                  4.674670                      4.116539\n",
       "21  6.604053                  6.578056                      6.390905\n",
       "22  6.237262                  6.232186                      6.234910\n",
       "23  6.470887                  6.452485                      6.717980\n",
       "24  5.601804                  5.632972                      5.788629\n",
       "25  5.041105                  5.104254                      5.236592\n",
       "26  5.141563                  5.198983                      5.604347\n",
       "27  5.197633                  5.251854                      5.820436\n",
       "28  5.709271                  5.734310                      6.064973\n",
       "29  4.683659                  4.767196                      4.470656\n",
       "30  5.316782                  5.364207                      5.503557\n",
       "31  5.688245                  5.714483                      5.300736"
      ]
     },
     "execution_count": 24,
     "metadata": {},
     "output_type": "execute_result"
    }
   ],
   "source": [
    "scaler = MinMaxScaler()\n",
    "scaler.fit(X_train)\n",
    "scaler.transform(X_train)\n",
    "lr6 = LinearRegression().fit(X_train,y_train)\n",
    "y_lr6_test = lr6.predict(X_test)\n",
    "y_lr6_train = lr6.predict(X_train)\n",
    "\n",
    "print(my_mean_squared_error(y_test, y_lr6_test))\n",
    "print(my_mean_squared_error(y_train, y_lr6_train))\n",
    "\n",
    "models_pred['Linear Model with 6 features'] = y_lr6_test\n",
    "models_pred"
   ]
  },
  {
   "cell_type": "markdown",
   "id": "f1b2b3fb",
   "metadata": {},
   "source": [
    "15.3.Выведите коэффициенты модели и определите, какие признаки имеют стоящие перед ними наибольшие коэффициенты по модулю (достаточно вывести названия признаков и коэффициенты в одном датафрейме)."
   ]
  },
  {
   "cell_type": "code",
   "execution_count": 25,
   "id": "8649e634",
   "metadata": {},
   "outputs": [
    {
     "data": {
      "text/html": [
       "<div>\n",
       "<style scoped>\n",
       "    .dataframe tbody tr th:only-of-type {\n",
       "        vertical-align: middle;\n",
       "    }\n",
       "\n",
       "    .dataframe tbody tr th {\n",
       "        vertical-align: top;\n",
       "    }\n",
       "\n",
       "    .dataframe thead th {\n",
       "        text-align: right;\n",
       "    }\n",
       "</style>\n",
       "<table border=\"1\" class=\"dataframe\">\n",
       "  <thead>\n",
       "    <tr style=\"text-align: right;\">\n",
       "      <th></th>\n",
       "      <th>Features</th>\n",
       "      <th>Coefficieint</th>\n",
       "    </tr>\n",
       "  </thead>\n",
       "  <tbody>\n",
       "    <tr>\n",
       "      <th>3</th>\n",
       "      <td>Freedom to make life choices</td>\n",
       "      <td>1.489813</td>\n",
       "    </tr>\n",
       "    <tr>\n",
       "      <th>1</th>\n",
       "      <td>Social support</td>\n",
       "      <td>1.232325</td>\n",
       "    </tr>\n",
       "    <tr>\n",
       "      <th>5</th>\n",
       "      <td>Perceptions of corruption</td>\n",
       "      <td>1.112431</td>\n",
       "    </tr>\n",
       "    <tr>\n",
       "      <th>2</th>\n",
       "      <td>Healthy life expectancy</td>\n",
       "      <td>0.930945</td>\n",
       "    </tr>\n",
       "    <tr>\n",
       "      <th>0</th>\n",
       "      <td>GDP per capita</td>\n",
       "      <td>0.750717</td>\n",
       "    </tr>\n",
       "    <tr>\n",
       "      <th>4</th>\n",
       "      <td>Generosity</td>\n",
       "      <td>0.270378</td>\n",
       "    </tr>\n",
       "  </tbody>\n",
       "</table>\n",
       "</div>"
      ],
      "text/plain": [
       "                       Features  Coefficieint\n",
       "3  Freedom to make life choices      1.489813\n",
       "1                Social support      1.232325\n",
       "5     Perceptions of corruption      1.112431\n",
       "2       Healthy life expectancy      0.930945\n",
       "0                GDP per capita      0.750717\n",
       "4                    Generosity      0.270378"
      ]
     },
     "execution_count": 25,
     "metadata": {},
     "output_type": "execute_result"
    }
   ],
   "source": [
    "coef = pd.DataFrame(X.columns,columns =['Features'])\n",
    "coef['Coefficieint'] = lr6.coef_.reshape(-1,1)\n",
    "coef.sort_values(by = 'Coefficieint', ascending = False)"
   ]
  },
  {
   "cell_type": "markdown",
   "id": "21912671",
   "metadata": {},
   "source": [
    "16.Обучите модель полиномиальной регрессии со степенью 2 на тех же данных, что и в предыдущем пункте. Используйте в процессе обучения `PolynomialFeatures`. Исследуйте метрики качества на трейн и тест датасетах. Есть ли переобучение (overfit)?"
   ]
  },
  {
   "cell_type": "code",
   "execution_count": 26,
   "id": "f0a4e597",
   "metadata": {},
   "outputs": [
    {
     "data": {
      "image/png": "[encoded data removed]",
      "text/plain": [
       "<Figure size 432x288 with 1 Axes>"
      ]
     },
     "metadata": {
      "needs_background": "light"
     },
     "output_type": "display_data"
    }
   ],
   "source": [
    "generator = PolynomialFeatures(degree=2)\n",
    "pol_features = generator.fit_transform(X_train)\n",
    "pol_regressor = LinearRegression()\n",
    "pol_regressor.fit(pol_features, y_train)\n",
    "pol_pred_train = pol_regressor.predict(pol_features)\n",
    "\n",
    "pol = pd.DataFrame(y_test, columns = ['Score'])\n",
    "pol_features = generator.fit_transform(X_test)\n",
    "\n",
    "pol['pred'] = pol_regressor.predict(pol_features)\n",
    "\n",
    "pol.sort_values(by='pred').reset_index(drop=True).plot();"
   ]
  },
  {
   "cell_type": "code",
   "execution_count": 27,
   "id": "3871eefb",
   "metadata": {},
   "outputs": [],
   "source": [
    "def get_metrics(y_true,y_pred, n_digits=5):\n",
    "    mse = sklearn.metrics.mean_squared_error (y_true=y_true, y_pred=y_pred)\n",
    "    rmse = sklearn.metrics.mean_squared_error (y_true=y_true, y_pred=y_pred, squared = False)\n",
    "    return dict(mse=round(mse, n_digits), rmse=round(rmse, n_digits))"
   ]
  },
  {
   "cell_type": "code",
   "execution_count": 28,
   "id": "f991bf2f",
   "metadata": {},
   "outputs": [
    {
     "name": "stdout",
     "output_type": "stream",
     "text": [
      "Ploynomial Train {'mse': 0.18085, 'rmse': 0.42526}\n",
      "Ploynomial Test {'mse': 0.42222, 'rmse': 0.64979}\n"
     ]
    }
   ],
   "source": [
    "print('Ploynomial Train', get_metrics(y_train,pol_pred_train))\n",
    "print('Ploynomial Test', get_metrics(y_test,pol['pred']))"
   ]
  },
  {
   "cell_type": "markdown",
   "id": "af1ffc17",
   "metadata": {},
   "source": [
    "17.Сделайте пайплайн с шагами `MinMaxScaler`, `PolynomialFeatures` и `ElasticNet`. Проведите поиск оптимальных гиперпараметров на тренировочном наборе данных используя `GridSearchCV`, метрика качества.   \n",
    "Какие риперпараметры искать выберите на своё усмотрение, к примеру, это могут быть параметры регуляризации `ElasticNet` или количество степеней в `PolynomialFeatures`.  \n",
    "Выведите значения найденных оптимальных гиперпараметров.  \n",
    "Лучшую модель из кросс валидации оцените на тестовом наборе данных.  \n",
    "\n",
    "\n",
    "Какая модель в домашнем задании дала лучшие значения среднеквадратичной ошибки на тестовых данных, лин. регрессия написанная самостоятельно, лин. регрессия из sklearn, полиномиальная регрессия со степенями признаков 2, модель найденная в результате поиска гиперпараметров?  "
   ]
  },
  {
   "cell_type": "code",
   "execution_count": 29,
   "id": "8b654ac1",
   "metadata": {},
   "outputs": [],
   "source": [
    "pipeline = Pipeline([\n",
    "    ('scaler', MinMaxScaler()),\n",
    "    ('poly_features', PolynomialFeatures(degree=2)),\n",
    "    ('model', ElasticNet())\n",
    "])"
   ]
  },
  {
   "cell_type": "code",
   "execution_count": 30,
   "id": "d8385f89",
   "metadata": {},
   "outputs": [
    {
     "data": {
      "text/plain": [
       "GridSearchCV(cv=5,\n",
       "             estimator=Pipeline(steps=[('scaler', MinMaxScaler()),\n",
       "                                       ('poly_features', PolynomialFeatures()),\n",
       "                                       ('model', ElasticNet())]),\n",
       "             param_grid={'model__alpha': array([0. , 0.1, 0.2, 0.3, 0.4, 0.5, 0.6, 0.7, 0.8, 0.9, 1. , 1.1, 1.2,\n",
       "       1.3, 1.4, 1.5, 1.6, 1.7, 1.8, 1.9, 2. , 2.1, 2.2, 2.3, 2.4, 2.5,\n",
       "       2.6, 2.7, 2.8, 2.9, 3. , 3.1, 3.2, 3.3, 3.4, 3.5, 3.6, 3.7, 3.8,\n",
       "       3.9, 4. , 4.1, 4.2, 4.3, 4.4, 4.5, 4.6, 4.7, 4.8, 4.9, 5. , 5.1,\n",
       "       5.2, 5.3, 5.4, 5.5, 5.6, 5.7, 5.8, 5.9, 6. , 6.1, 6.2, 6.3, 6.4,\n",
       "       6.5, 6.6, 6.7, 6.8, 6.9, 7. , 7.1, 7.2, 7.3, 7.4, 7.5, 7.6, 7.7,\n",
       "       7.8, 7.9, 8. , 8.1, 8.2, 8.3, 8.4, 8.5, 8.6, 8.7, 8.8, 8.9, 9. ,\n",
       "       9.1, 9.2, 9.3, 9.4, 9.5, 9.6, 9.7, 9.8, 9.9])},\n",
       "             scoring='neg_mean_squared_error', verbose=3)"
      ]
     },
     "execution_count": 30,
     "metadata": {},
     "output_type": "execute_result"
    }
   ],
   "source": [
    "search = GridSearchCV(\n",
    "    pipeline,\n",
    "    {'model__alpha':np.arange(0,10,0.1)},\n",
    "    cv = 5, \n",
    "    scoring=\"neg_mean_squared_error\",\n",
    "    verbose=3\n",
    ")\n",
    "search"
   ]
  },
  {
   "cell_type": "code",
   "execution_count": 31,
   "id": "22cac393",
   "metadata": {},
   "outputs": [
    {
     "name": "stdout",
     "output_type": "stream",
     "text": [
      "Fitting 5 folds for each of 100 candidates, totalling 500 fits\n",
      "[CV 1/5] END .................model__alpha=0.0;, score=-0.320 total time=   0.0s\n",
      "[CV 2/5] END .................model__alpha=0.0;, score=-0.183 total time=   0.0s\n",
      "[CV 3/5] END .................model__alpha=0.0;, score=-0.349 total time=   0.0s\n",
      "[CV 4/5] END .................model__alpha=0.0;, score=-0.256 total time=   0.0s\n",
      "[CV 5/5] END .................model__alpha=0.0;, score=-0.348 total time=   0.0s\n",
      "[CV 1/5] END .................model__alpha=0.1;, score=-0.306 total time=   0.0s\n",
      "[CV 2/5] END .................model__alpha=0.1;, score=-0.349 total time=   0.0s\n",
      "[CV 3/5] END .................model__alpha=0.1;, score=-0.274 total time=   0.0s\n",
      "[CV 4/5] END .................model__alpha=0.1;, score=-0.320 total time=   0.0s\n",
      "[CV 5/5] END .................model__alpha=0.1;, score=-0.381 total time=   0.0s\n",
      "[CV 1/5] END .................model__alpha=0.2;, score=-0.406 total time=   0.0s\n",
      "[CV 2/5] END .................model__alpha=0.2;, score=-0.604 total time=   0.0s\n",
      "[CV 3/5] END .................model__alpha=0.2;, score=-0.393 total time=   0.0s\n",
      "[CV 4/5] END .................model__alpha=0.2;, score=-0.645 total time=   0.0s\n",
      "[CV 5/5] END .................model__alpha=0.2;, score=-0.610 total time=   0.0s\n",
      "[CV 1/5] END .model__alpha=0.30000000000000004;, score=-0.572 total time=   0.0s\n",
      "[CV 2/5] END .model__alpha=0.30000000000000004;, score=-0.928 total time=   0.0s\n",
      "[CV 3/5] END .model__alpha=0.30000000000000004;, score=-0.590 total time=   0.0s\n",
      "[CV 4/5] END .model__alpha=0.30000000000000004;, score=-1.026 total time=   0.0s\n",
      "[CV 5/5] END .model__alpha=0.30000000000000004;, score=-0.880 total time=   0.0s\n",
      "[CV 1/5] END .................model__alpha=0.4;, score=-0.770 total time=   0.0s\n"
     ]
    },
    {
     "name": "stderr",
     "output_type": "stream",
     "text": [
      "/Users/macbook/opt/anaconda3/lib/python3.9/site-packages/sklearn/pipeline.py:346: UserWarning: With alpha=0, this algorithm does not converge well. You are advised to use the LinearRegression estimator\n",
      "  self._final_estimator.fit(Xt, y, **fit_params_last_step)\n",
      "/Users/macbook/opt/anaconda3/lib/python3.9/site-packages/sklearn/linear_model/_coordinate_descent.py:530: UserWarning: Coordinate descent with no regularization may lead to unexpected results and is discouraged.\n",
      "  model = cd_fast.enet_coordinate_descent(\n",
      "/Users/macbook/opt/anaconda3/lib/python3.9/site-packages/sklearn/linear_model/_coordinate_descent.py:530: ConvergenceWarning: Objective did not converge. You might want to increase the number of iterations. Duality gap: 6.487978745262948, tolerance: 0.013437523262626264\n",
      "  model = cd_fast.enet_coordinate_descent(\n",
      "/Users/macbook/opt/anaconda3/lib/python3.9/site-packages/sklearn/pipeline.py:346: UserWarning: With alpha=0, this algorithm does not converge well. You are advised to use the LinearRegression estimator\n",
      "  self._final_estimator.fit(Xt, y, **fit_params_last_step)\n",
      "/Users/macbook/opt/anaconda3/lib/python3.9/site-packages/sklearn/linear_model/_coordinate_descent.py:530: UserWarning: Coordinate descent with no regularization may lead to unexpected results and is discouraged.\n",
      "  model = cd_fast.enet_coordinate_descent(\n",
      "/Users/macbook/opt/anaconda3/lib/python3.9/site-packages/sklearn/linear_model/_coordinate_descent.py:530: ConvergenceWarning: Objective did not converge. You might want to increase the number of iterations. Duality gap: 7.8048496111752925, tolerance: 0.0121344072\n",
      "  model = cd_fast.enet_coordinate_descent(\n",
      "/Users/macbook/opt/anaconda3/lib/python3.9/site-packages/sklearn/pipeline.py:346: UserWarning: With alpha=0, this algorithm does not converge well. You are advised to use the LinearRegression estimator\n",
      "  self._final_estimator.fit(Xt, y, **fit_params_last_step)\n",
      "/Users/macbook/opt/anaconda3/lib/python3.9/site-packages/sklearn/linear_model/_coordinate_descent.py:530: UserWarning: Coordinate descent with no regularization may lead to unexpected results and is discouraged.\n",
      "  model = cd_fast.enet_coordinate_descent(\n",
      "/Users/macbook/opt/anaconda3/lib/python3.9/site-packages/sklearn/linear_model/_coordinate_descent.py:530: ConvergenceWarning: Objective did not converge. You might want to increase the number of iterations. Duality gap: 6.843250539520204, tolerance: 0.01324279734141414\n",
      "  model = cd_fast.enet_coordinate_descent(\n",
      "/Users/macbook/opt/anaconda3/lib/python3.9/site-packages/sklearn/pipeline.py:346: UserWarning: With alpha=0, this algorithm does not converge well. You are advised to use the LinearRegression estimator\n",
      "  self._final_estimator.fit(Xt, y, **fit_params_last_step)\n",
      "/Users/macbook/opt/anaconda3/lib/python3.9/site-packages/sklearn/linear_model/_coordinate_descent.py:530: UserWarning: Coordinate descent with no regularization may lead to unexpected results and is discouraged.\n",
      "  model = cd_fast.enet_coordinate_descent(\n",
      "/Users/macbook/opt/anaconda3/lib/python3.9/site-packages/sklearn/linear_model/_coordinate_descent.py:530: ConvergenceWarning: Objective did not converge. You might want to increase the number of iterations. Duality gap: 7.0058336665484156, tolerance: 0.011968970563636364\n",
      "  model = cd_fast.enet_coordinate_descent(\n",
      "/Users/macbook/opt/anaconda3/lib/python3.9/site-packages/sklearn/pipeline.py:346: UserWarning: With alpha=0, this algorithm does not converge well. You are advised to use the LinearRegression estimator\n",
      "  self._final_estimator.fit(Xt, y, **fit_params_last_step)\n",
      "/Users/macbook/opt/anaconda3/lib/python3.9/site-packages/sklearn/linear_model/_coordinate_descent.py:530: UserWarning: Coordinate descent with no regularization may lead to unexpected results and is discouraged.\n",
      "  model = cd_fast.enet_coordinate_descent(\n",
      "/Users/macbook/opt/anaconda3/lib/python3.9/site-packages/sklearn/linear_model/_coordinate_descent.py:530: ConvergenceWarning: Objective did not converge. You might want to increase the number of iterations. Duality gap: 6.738811034498372, tolerance: 0.012654043896\n",
      "  model = cd_fast.enet_coordinate_descent(\n"
     ]
    },
    {
     "name": "stdout",
     "output_type": "stream",
     "text": [
      "[CV 2/5] END .................model__alpha=0.4;, score=-1.278 total time=   0.0s\n",
      "[CV 3/5] END .................model__alpha=0.4;, score=-0.827 total time=   0.0s\n",
      "[CV 4/5] END .................model__alpha=0.4;, score=-1.402 total time=   0.0s\n",
      "[CV 5/5] END .................model__alpha=0.4;, score=-1.162 total time=   0.0s\n",
      "[CV 1/5] END .................model__alpha=0.5;, score=-0.954 total time=   0.0s\n",
      "[CV 2/5] END .................model__alpha=0.5;, score=-1.492 total time=   0.0s\n",
      "[CV 3/5] END .................model__alpha=0.5;, score=-1.012 total time=   0.0s\n",
      "[CV 4/5] END .................model__alpha=0.5;, score=-1.562 total time=   0.0s\n",
      "[CV 5/5] END .................model__alpha=0.5;, score=-1.345 total time=   0.0s\n",
      "[CV 1/5] END ..model__alpha=0.6000000000000001;, score=-0.971 total time=   0.0s\n",
      "[CV 2/5] END ..model__alpha=0.6000000000000001;, score=-1.492 total time=   0.0s\n",
      "[CV 3/5] END ..model__alpha=0.6000000000000001;, score=-1.050 total time=   0.0s\n",
      "[CV 4/5] END ..model__alpha=0.6000000000000001;, score=-1.562 total time=   0.0s\n",
      "[CV 5/5] END ..model__alpha=0.6000000000000001;, score=-1.345 total time=   0.0s\n",
      "[CV 1/5] END ..model__alpha=0.7000000000000001;, score=-0.971 total time=   0.0s\n",
      "[CV 2/5] END ..model__alpha=0.7000000000000001;, score=-1.492 total time=   0.0s\n",
      "[CV 3/5] END ..model__alpha=0.7000000000000001;, score=-1.050 total time=   0.0s\n",
      "[CV 4/5] END ..model__alpha=0.7000000000000001;, score=-1.562 total time=   0.0s\n",
      "[CV 5/5] END ..model__alpha=0.7000000000000001;, score=-1.345 total time=   0.0s\n",
      "[CV 1/5] END .................model__alpha=0.8;, score=-0.971 total time=   0.0s\n",
      "[CV 2/5] END .................model__alpha=0.8;, score=-1.492 total time=   0.0s\n",
      "[CV 3/5] END .................model__alpha=0.8;, score=-1.050 total time=   0.0s\n",
      "[CV 4/5] END .................model__alpha=0.8;, score=-1.562 total time=   0.0s\n",
      "[CV 5/5] END .................model__alpha=0.8;, score=-1.345 total time=   0.0s\n",
      "[CV 1/5] END .................model__alpha=0.9;, score=-0.971 total time=   0.0s\n",
      "[CV 2/5] END .................model__alpha=0.9;, score=-1.492 total time=   0.0s\n",
      "[CV 3/5] END .................model__alpha=0.9;, score=-1.050 total time=   0.0s\n",
      "[CV 4/5] END .................model__alpha=0.9;, score=-1.562 total time=   0.0s\n",
      "[CV 5/5] END .................model__alpha=0.9;, score=-1.345 total time=   0.0s\n",
      "[CV 1/5] END .................model__alpha=1.0;, score=-0.971 total time=   0.0s\n",
      "[CV 2/5] END .................model__alpha=1.0;, score=-1.492 total time=   0.0s\n",
      "[CV 3/5] END .................model__alpha=1.0;, score=-1.050 total time=   0.0s\n",
      "[CV 4/5] END .................model__alpha=1.0;, score=-1.562 total time=   0.0s\n",
      "[CV 5/5] END .................model__alpha=1.0;, score=-1.345 total time=   0.0s\n",
      "[CV 1/5] END .................model__alpha=1.1;, score=-0.971 total time=   0.0s\n",
      "[CV 2/5] END .................model__alpha=1.1;, score=-1.492 total time=   0.0s\n",
      "[CV 3/5] END .................model__alpha=1.1;, score=-1.050 total time=   0.0s\n",
      "[CV 4/5] END .................model__alpha=1.1;, score=-1.562 total time=   0.0s\n",
      "[CV 5/5] END .................model__alpha=1.1;, score=-1.345 total time=   0.0s\n",
      "[CV 1/5] END ..model__alpha=1.2000000000000002;, score=-0.971 total time=   0.0s\n",
      "[CV 2/5] END ..model__alpha=1.2000000000000002;, score=-1.492 total time=   0.0s\n",
      "[CV 3/5] END ..model__alpha=1.2000000000000002;, score=-1.050 total time=   0.0s\n",
      "[CV 4/5] END ..model__alpha=1.2000000000000002;, score=-1.562 total time=   0.0s\n",
      "[CV 5/5] END ..model__alpha=1.2000000000000002;, score=-1.345 total time=   0.0s\n",
      "[CV 1/5] END .................model__alpha=1.3;, score=-0.971 total time=   0.0s\n",
      "[CV 2/5] END .................model__alpha=1.3;, score=-1.492 total time=   0.0s\n",
      "[CV 3/5] END .................model__alpha=1.3;, score=-1.050 total time=   0.0s\n",
      "[CV 4/5] END .................model__alpha=1.3;, score=-1.562 total time=   0.0s\n",
      "[CV 5/5] END .................model__alpha=1.3;, score=-1.345 total time=   0.0s\n",
      "[CV 1/5] END ..model__alpha=1.4000000000000001;, score=-0.971 total time=   0.0s\n",
      "[CV 2/5] END ..model__alpha=1.4000000000000001;, score=-1.492 total time=   0.0s\n",
      "[CV 3/5] END ..model__alpha=1.4000000000000001;, score=-1.050 total time=   0.0s\n",
      "[CV 4/5] END ..model__alpha=1.4000000000000001;, score=-1.562 total time=   0.0s\n",
      "[CV 5/5] END ..model__alpha=1.4000000000000001;, score=-1.345 total time=   0.0s\n",
      "[CV 1/5] END .................model__alpha=1.5;, score=-0.971 total time=   0.0s\n",
      "[CV 2/5] END .................model__alpha=1.5;, score=-1.492 total time=   0.0s\n",
      "[CV 3/5] END .................model__alpha=1.5;, score=-1.050 total time=   0.0s\n",
      "[CV 4/5] END .................model__alpha=1.5;, score=-1.562 total time=   0.0s\n",
      "[CV 5/5] END .................model__alpha=1.5;, score=-1.345 total time=   0.0s\n",
      "[CV 1/5] END .................model__alpha=1.6;, score=-0.971 total time=   0.0s\n",
      "[CV 2/5] END .................model__alpha=1.6;, score=-1.492 total time=   0.0s\n",
      "[CV 3/5] END .................model__alpha=1.6;, score=-1.050 total time=   0.0s\n",
      "[CV 4/5] END .................model__alpha=1.6;, score=-1.562 total time=   0.0s\n",
      "[CV 5/5] END .................model__alpha=1.6;, score=-1.345 total time=   0.0s\n",
      "[CV 1/5] END ..model__alpha=1.7000000000000002;, score=-0.971 total time=   0.0s\n",
      "[CV 2/5] END ..model__alpha=1.7000000000000002;, score=-1.492 total time=   0.0s\n",
      "[CV 3/5] END ..model__alpha=1.7000000000000002;, score=-1.050 total time=   0.0s\n",
      "[CV 4/5] END ..model__alpha=1.7000000000000002;, score=-1.562 total time=   0.0s\n",
      "[CV 5/5] END ..model__alpha=1.7000000000000002;, score=-1.345 total time=   0.0s\n",
      "[CV 1/5] END .................model__alpha=1.8;, score=-0.971 total time=   0.0s\n",
      "[CV 2/5] END .................model__alpha=1.8;, score=-1.492 total time=   0.0s\n",
      "[CV 3/5] END .................model__alpha=1.8;, score=-1.050 total time=   0.0s\n",
      "[CV 4/5] END .................model__alpha=1.8;, score=-1.562 total time=   0.0s\n",
      "[CV 5/5] END .................model__alpha=1.8;, score=-1.345 total time=   0.0s\n",
      "[CV 1/5] END ..model__alpha=1.9000000000000001;, score=-0.971 total time=   0.0s\n",
      "[CV 2/5] END ..model__alpha=1.9000000000000001;, score=-1.492 total time=   0.0s\n",
      "[CV 3/5] END ..model__alpha=1.9000000000000001;, score=-1.050 total time=   0.0s\n",
      "[CV 4/5] END ..model__alpha=1.9000000000000001;, score=-1.562 total time=   0.0s\n",
      "[CV 5/5] END ..model__alpha=1.9000000000000001;, score=-1.345 total time=   0.0s\n",
      "[CV 1/5] END .................model__alpha=2.0;, score=-0.971 total time=   0.0s\n",
      "[CV 2/5] END .................model__alpha=2.0;, score=-1.492 total time=   0.0s\n",
      "[CV 3/5] END .................model__alpha=2.0;, score=-1.050 total time=   0.0s\n",
      "[CV 4/5] END .................model__alpha=2.0;, score=-1.562 total time=   0.0s\n",
      "[CV 5/5] END .................model__alpha=2.0;, score=-1.345 total time=   0.0s\n",
      "[CV 1/5] END .................model__alpha=2.1;, score=-0.971 total time=   0.0s\n",
      "[CV 2/5] END .................model__alpha=2.1;, score=-1.492 total time=   0.0s\n",
      "[CV 3/5] END .................model__alpha=2.1;, score=-1.050 total time=   0.0s\n",
      "[CV 4/5] END .................model__alpha=2.1;, score=-1.562 total time=   0.0s\n",
      "[CV 5/5] END .................model__alpha=2.1;, score=-1.345 total time=   0.0s\n",
      "[CV 1/5] END .................model__alpha=2.2;, score=-0.971 total time=   0.0s\n",
      "[CV 2/5] END .................model__alpha=2.2;, score=-1.492 total time=   0.0s\n",
      "[CV 3/5] END .................model__alpha=2.2;, score=-1.050 total time=   0.0s\n",
      "[CV 4/5] END .................model__alpha=2.2;, score=-1.562 total time=   0.0s\n",
      "[CV 5/5] END .................model__alpha=2.2;, score=-1.345 total time=   0.0s\n",
      "[CV 1/5] END ..model__alpha=2.3000000000000003;, score=-0.971 total time=   0.0s\n",
      "[CV 2/5] END ..model__alpha=2.3000000000000003;, score=-1.492 total time=   0.0s\n",
      "[CV 3/5] END ..model__alpha=2.3000000000000003;, score=-1.050 total time=   0.0s\n",
      "[CV 4/5] END ..model__alpha=2.3000000000000003;, score=-1.562 total time=   0.0s\n",
      "[CV 5/5] END ..model__alpha=2.3000000000000003;, score=-1.345 total time=   0.0s\n",
      "[CV 1/5] END ..model__alpha=2.4000000000000004;, score=-0.971 total time=   0.0s\n",
      "[CV 2/5] END ..model__alpha=2.4000000000000004;, score=-1.492 total time=   0.0s\n",
      "[CV 3/5] END ..model__alpha=2.4000000000000004;, score=-1.050 total time=   0.0s\n",
      "[CV 4/5] END ..model__alpha=2.4000000000000004;, score=-1.562 total time=   0.0s\n",
      "[CV 5/5] END ..model__alpha=2.4000000000000004;, score=-1.345 total time=   0.0s\n",
      "[CV 1/5] END .................model__alpha=2.5;, score=-0.971 total time=   0.0s\n",
      "[CV 2/5] END .................model__alpha=2.5;, score=-1.492 total time=   0.0s\n",
      "[CV 3/5] END .................model__alpha=2.5;, score=-1.050 total time=   0.0s\n",
      "[CV 4/5] END .................model__alpha=2.5;, score=-1.562 total time=   0.0s\n",
      "[CV 5/5] END .................model__alpha=2.5;, score=-1.345 total time=   0.0s\n",
      "[CV 1/5] END .................model__alpha=2.6;, score=-0.971 total time=   0.0s\n",
      "[CV 2/5] END .................model__alpha=2.6;, score=-1.492 total time=   0.0s\n",
      "[CV 3/5] END .................model__alpha=2.6;, score=-1.050 total time=   0.0s\n",
      "[CV 4/5] END .................model__alpha=2.6;, score=-1.562 total time=   0.0s\n",
      "[CV 5/5] END .................model__alpha=2.6;, score=-1.345 total time=   0.0s\n",
      "[CV 1/5] END .................model__alpha=2.7;, score=-0.971 total time=   0.0s\n",
      "[CV 2/5] END .................model__alpha=2.7;, score=-1.492 total time=   0.0s\n",
      "[CV 3/5] END .................model__alpha=2.7;, score=-1.050 total time=   0.0s\n",
      "[CV 4/5] END .................model__alpha=2.7;, score=-1.562 total time=   0.0s\n",
      "[CV 5/5] END .................model__alpha=2.7;, score=-1.345 total time=   0.0s\n",
      "[CV 1/5] END ..model__alpha=2.8000000000000003;, score=-0.971 total time=   0.0s\n",
      "[CV 2/5] END ..model__alpha=2.8000000000000003;, score=-1.492 total time=   0.0s\n",
      "[CV 3/5] END ..model__alpha=2.8000000000000003;, score=-1.050 total time=   0.0s\n",
      "[CV 4/5] END ..model__alpha=2.8000000000000003;, score=-1.562 total time=   0.0s\n",
      "[CV 5/5] END ..model__alpha=2.8000000000000003;, score=-1.345 total time=   0.0s\n",
      "[CV 1/5] END ..model__alpha=2.9000000000000004;, score=-0.971 total time=   0.0s\n",
      "[CV 2/5] END ..model__alpha=2.9000000000000004;, score=-1.492 total time=   0.0s\n",
      "[CV 3/5] END ..model__alpha=2.9000000000000004;, score=-1.050 total time=   0.0s\n",
      "[CV 4/5] END ..model__alpha=2.9000000000000004;, score=-1.562 total time=   0.0s\n",
      "[CV 5/5] END ..model__alpha=2.9000000000000004;, score=-1.345 total time=   0.0s\n",
      "[CV 1/5] END .................model__alpha=3.0;, score=-0.971 total time=   0.0s\n",
      "[CV 2/5] END .................model__alpha=3.0;, score=-1.492 total time=   0.0s\n",
      "[CV 3/5] END .................model__alpha=3.0;, score=-1.050 total time=   0.0s\n",
      "[CV 4/5] END .................model__alpha=3.0;, score=-1.562 total time=   0.0s\n",
      "[CV 5/5] END .................model__alpha=3.0;, score=-1.345 total time=   0.0s\n",
      "[CV 1/5] END .................model__alpha=3.1;, score=-0.971 total time=   0.0s\n",
      "[CV 2/5] END .................model__alpha=3.1;, score=-1.492 total time=   0.0s\n",
      "[CV 3/5] END .................model__alpha=3.1;, score=-1.050 total time=   0.0s\n",
      "[CV 4/5] END .................model__alpha=3.1;, score=-1.562 total time=   0.0s\n",
      "[CV 5/5] END .................model__alpha=3.1;, score=-1.345 total time=   0.0s\n",
      "[CV 1/5] END .................model__alpha=3.2;, score=-0.971 total time=   0.0s\n",
      "[CV 2/5] END .................model__alpha=3.2;, score=-1.492 total time=   0.0s\n",
      "[CV 3/5] END .................model__alpha=3.2;, score=-1.050 total time=   0.0s\n",
      "[CV 4/5] END .................model__alpha=3.2;, score=-1.562 total time=   0.0s\n",
      "[CV 5/5] END .................model__alpha=3.2;, score=-1.345 total time=   0.0s\n",
      "[CV 1/5] END ..model__alpha=3.3000000000000003;, score=-0.971 total time=   0.0s\n",
      "[CV 2/5] END ..model__alpha=3.3000000000000003;, score=-1.492 total time=   0.0s\n",
      "[CV 3/5] END ..model__alpha=3.3000000000000003;, score=-1.050 total time=   0.0s\n",
      "[CV 4/5] END ..model__alpha=3.3000000000000003;, score=-1.562 total time=   0.0s\n",
      "[CV 5/5] END ..model__alpha=3.3000000000000003;, score=-1.345 total time=   0.0s\n",
      "[CV 1/5] END ..model__alpha=3.4000000000000004;, score=-0.971 total time=   0.0s\n",
      "[CV 2/5] END ..model__alpha=3.4000000000000004;, score=-1.492 total time=   0.0s\n",
      "[CV 3/5] END ..model__alpha=3.4000000000000004;, score=-1.050 total time=   0.0s\n",
      "[CV 4/5] END ..model__alpha=3.4000000000000004;, score=-1.562 total time=   0.0s\n",
      "[CV 5/5] END ..model__alpha=3.4000000000000004;, score=-1.345 total time=   0.0s\n",
      "[CV 1/5] END .................model__alpha=3.5;, score=-0.971 total time=   0.0s\n",
      "[CV 2/5] END .................model__alpha=3.5;, score=-1.492 total time=   0.0s\n",
      "[CV 3/5] END .................model__alpha=3.5;, score=-1.050 total time=   0.0s\n",
      "[CV 4/5] END .................model__alpha=3.5;, score=-1.562 total time=   0.0s\n",
      "[CV 5/5] END .................model__alpha=3.5;, score=-1.345 total time=   0.0s\n",
      "[CV 1/5] END .................model__alpha=3.6;, score=-0.971 total time=   0.0s\n",
      "[CV 2/5] END .................model__alpha=3.6;, score=-1.492 total time=   0.0s\n",
      "[CV 3/5] END .................model__alpha=3.6;, score=-1.050 total time=   0.0s\n",
      "[CV 4/5] END .................model__alpha=3.6;, score=-1.562 total time=   0.0s\n",
      "[CV 5/5] END .................model__alpha=3.6;, score=-1.345 total time=   0.0s\n",
      "[CV 1/5] END .................model__alpha=3.7;, score=-0.971 total time=   0.0s\n",
      "[CV 2/5] END .................model__alpha=3.7;, score=-1.492 total time=   0.0s\n",
      "[CV 3/5] END .................model__alpha=3.7;, score=-1.050 total time=   0.0s\n",
      "[CV 4/5] END .................model__alpha=3.7;, score=-1.562 total time=   0.0s\n",
      "[CV 5/5] END .................model__alpha=3.7;, score=-1.345 total time=   0.0s\n",
      "[CV 1/5] END ..model__alpha=3.8000000000000003;, score=-0.971 total time=   0.0s\n",
      "[CV 2/5] END ..model__alpha=3.8000000000000003;, score=-1.492 total time=   0.0s\n",
      "[CV 3/5] END ..model__alpha=3.8000000000000003;, score=-1.050 total time=   0.0s\n",
      "[CV 4/5] END ..model__alpha=3.8000000000000003;, score=-1.562 total time=   0.0s\n",
      "[CV 5/5] END ..model__alpha=3.8000000000000003;, score=-1.345 total time=   0.0s\n",
      "[CV 1/5] END ..model__alpha=3.9000000000000004;, score=-0.971 total time=   0.0s\n",
      "[CV 2/5] END ..model__alpha=3.9000000000000004;, score=-1.492 total time=   0.0s\n",
      "[CV 3/5] END ..model__alpha=3.9000000000000004;, score=-1.050 total time=   0.0s\n",
      "[CV 4/5] END ..model__alpha=3.9000000000000004;, score=-1.562 total time=   0.0s\n",
      "[CV 5/5] END ..model__alpha=3.9000000000000004;, score=-1.345 total time=   0.0s\n",
      "[CV 1/5] END .................model__alpha=4.0;, score=-0.971 total time=   0.0s\n",
      "[CV 2/5] END .................model__alpha=4.0;, score=-1.492 total time=   0.0s\n",
      "[CV 3/5] END .................model__alpha=4.0;, score=-1.050 total time=   0.0s\n",
      "[CV 4/5] END .................model__alpha=4.0;, score=-1.562 total time=   0.0s\n",
      "[CV 5/5] END .................model__alpha=4.0;, score=-1.345 total time=   0.0s\n",
      "[CV 1/5] END ..model__alpha=4.1000000000000005;, score=-0.971 total time=   0.0s\n",
      "[CV 2/5] END ..model__alpha=4.1000000000000005;, score=-1.492 total time=   0.0s\n",
      "[CV 3/5] END ..model__alpha=4.1000000000000005;, score=-1.050 total time=   0.0s\n",
      "[CV 4/5] END ..model__alpha=4.1000000000000005;, score=-1.562 total time=   0.0s\n",
      "[CV 5/5] END ..model__alpha=4.1000000000000005;, score=-1.345 total time=   0.0s\n",
      "[CV 1/5] END .................model__alpha=4.2;, score=-0.971 total time=   0.0s\n",
      "[CV 2/5] END .................model__alpha=4.2;, score=-1.492 total time=   0.0s\n",
      "[CV 3/5] END .................model__alpha=4.2;, score=-1.050 total time=   0.0s\n",
      "[CV 4/5] END .................model__alpha=4.2;, score=-1.562 total time=   0.0s\n",
      "[CV 5/5] END .................model__alpha=4.2;, score=-1.345 total time=   0.0s\n",
      "[CV 1/5] END .................model__alpha=4.3;, score=-0.971 total time=   0.0s\n",
      "[CV 2/5] END .................model__alpha=4.3;, score=-1.492 total time=   0.0s\n",
      "[CV 3/5] END .................model__alpha=4.3;, score=-1.050 total time=   0.0s\n",
      "[CV 4/5] END .................model__alpha=4.3;, score=-1.562 total time=   0.0s\n",
      "[CV 5/5] END .................model__alpha=4.3;, score=-1.345 total time=   0.0s\n",
      "[CV 1/5] END .................model__alpha=4.4;, score=-0.971 total time=   0.0s\n",
      "[CV 2/5] END .................model__alpha=4.4;, score=-1.492 total time=   0.0s\n",
      "[CV 3/5] END .................model__alpha=4.4;, score=-1.050 total time=   0.0s\n",
      "[CV 4/5] END .................model__alpha=4.4;, score=-1.562 total time=   0.0s\n",
      "[CV 5/5] END .................model__alpha=4.4;, score=-1.345 total time=   0.0s\n",
      "[CV 1/5] END .................model__alpha=4.5;, score=-0.971 total time=   0.0s\n",
      "[CV 2/5] END .................model__alpha=4.5;, score=-1.492 total time=   0.0s\n",
      "[CV 3/5] END .................model__alpha=4.5;, score=-1.050 total time=   0.0s\n",
      "[CV 4/5] END .................model__alpha=4.5;, score=-1.562 total time=   0.0s\n",
      "[CV 5/5] END .................model__alpha=4.5;, score=-1.345 total time=   0.0s\n",
      "[CV 1/5] END ..model__alpha=4.6000000000000005;, score=-0.971 total time=   0.0s\n",
      "[CV 2/5] END ..model__alpha=4.6000000000000005;, score=-1.492 total time=   0.0s\n",
      "[CV 3/5] END ..model__alpha=4.6000000000000005;, score=-1.050 total time=   0.0s\n",
      "[CV 4/5] END ..model__alpha=4.6000000000000005;, score=-1.562 total time=   0.0s\n",
      "[CV 5/5] END ..model__alpha=4.6000000000000005;, score=-1.345 total time=   0.0s\n",
      "[CV 1/5] END .................model__alpha=4.7;, score=-0.971 total time=   0.0s\n",
      "[CV 2/5] END .................model__alpha=4.7;, score=-1.492 total time=   0.0s\n",
      "[CV 3/5] END .................model__alpha=4.7;, score=-1.050 total time=   0.0s\n",
      "[CV 4/5] END .................model__alpha=4.7;, score=-1.562 total time=   0.0s\n",
      "[CV 5/5] END .................model__alpha=4.7;, score=-1.345 total time=   0.0s\n",
      "[CV 1/5] END ...model__alpha=4.800000000000001;, score=-0.971 total time=   0.0s\n",
      "[CV 2/5] END ...model__alpha=4.800000000000001;, score=-1.492 total time=   0.0s\n",
      "[CV 3/5] END ...model__alpha=4.800000000000001;, score=-1.050 total time=   0.0s\n",
      "[CV 4/5] END ...model__alpha=4.800000000000001;, score=-1.562 total time=   0.0s\n",
      "[CV 5/5] END ...model__alpha=4.800000000000001;, score=-1.345 total time=   0.0s\n",
      "[CV 1/5] END .................model__alpha=4.9;, score=-0.971 total time=   0.0s\n",
      "[CV 2/5] END .................model__alpha=4.9;, score=-1.492 total time=   0.0s\n",
      "[CV 3/5] END .................model__alpha=4.9;, score=-1.050 total time=   0.0s\n",
      "[CV 4/5] END .................model__alpha=4.9;, score=-1.562 total time=   0.0s\n",
      "[CV 5/5] END .................model__alpha=4.9;, score=-1.345 total time=   0.0s\n",
      "[CV 1/5] END .................model__alpha=5.0;, score=-0.971 total time=   0.0s\n",
      "[CV 2/5] END .................model__alpha=5.0;, score=-1.492 total time=   0.0s\n",
      "[CV 3/5] END .................model__alpha=5.0;, score=-1.050 total time=   0.0s\n",
      "[CV 4/5] END .................model__alpha=5.0;, score=-1.562 total time=   0.0s\n",
      "[CV 5/5] END .................model__alpha=5.0;, score=-1.345 total time=   0.0s\n",
      "[CV 1/5] END ..model__alpha=5.1000000000000005;, score=-0.971 total time=   0.0s\n",
      "[CV 2/5] END ..model__alpha=5.1000000000000005;, score=-1.492 total time=   0.0s\n",
      "[CV 3/5] END ..model__alpha=5.1000000000000005;, score=-1.050 total time=   0.0s\n",
      "[CV 4/5] END ..model__alpha=5.1000000000000005;, score=-1.562 total time=   0.0s\n",
      "[CV 5/5] END ..model__alpha=5.1000000000000005;, score=-1.345 total time=   0.0s\n",
      "[CV 1/5] END .................model__alpha=5.2;, score=-0.971 total time=   0.0s\n",
      "[CV 2/5] END .................model__alpha=5.2;, score=-1.492 total time=   0.0s\n",
      "[CV 3/5] END .................model__alpha=5.2;, score=-1.050 total time=   0.0s\n",
      "[CV 4/5] END .................model__alpha=5.2;, score=-1.562 total time=   0.0s\n",
      "[CV 5/5] END .................model__alpha=5.2;, score=-1.345 total time=   0.0s\n",
      "[CV 1/5] END ...model__alpha=5.300000000000001;, score=-0.971 total time=   0.0s\n",
      "[CV 2/5] END ...model__alpha=5.300000000000001;, score=-1.492 total time=   0.0s\n",
      "[CV 3/5] END ...model__alpha=5.300000000000001;, score=-1.050 total time=   0.0s\n",
      "[CV 4/5] END ...model__alpha=5.300000000000001;, score=-1.562 total time=   0.0s\n",
      "[CV 5/5] END ...model__alpha=5.300000000000001;, score=-1.345 total time=   0.0s\n",
      "[CV 1/5] END .................model__alpha=5.4;, score=-0.971 total time=   0.0s\n",
      "[CV 2/5] END .................model__alpha=5.4;, score=-1.492 total time=   0.0s\n",
      "[CV 3/5] END .................model__alpha=5.4;, score=-1.050 total time=   0.0s\n",
      "[CV 4/5] END .................model__alpha=5.4;, score=-1.562 total time=   0.0s\n",
      "[CV 5/5] END .................model__alpha=5.4;, score=-1.345 total time=   0.0s\n",
      "[CV 1/5] END .................model__alpha=5.5;, score=-0.971 total time=   0.0s\n",
      "[CV 2/5] END .................model__alpha=5.5;, score=-1.492 total time=   0.0s\n",
      "[CV 3/5] END .................model__alpha=5.5;, score=-1.050 total time=   0.0s\n",
      "[CV 4/5] END .................model__alpha=5.5;, score=-1.562 total time=   0.0s\n",
      "[CV 5/5] END .................model__alpha=5.5;, score=-1.345 total time=   0.0s\n",
      "[CV 1/5] END ..model__alpha=5.6000000000000005;, score=-0.971 total time=   0.0s\n",
      "[CV 2/5] END ..model__alpha=5.6000000000000005;, score=-1.492 total time=   0.0s\n",
      "[CV 3/5] END ..model__alpha=5.6000000000000005;, score=-1.050 total time=   0.0s\n",
      "[CV 4/5] END ..model__alpha=5.6000000000000005;, score=-1.562 total time=   0.0s\n",
      "[CV 5/5] END ..model__alpha=5.6000000000000005;, score=-1.345 total time=   0.0s\n",
      "[CV 1/5] END .................model__alpha=5.7;, score=-0.971 total time=   0.0s\n",
      "[CV 2/5] END .................model__alpha=5.7;, score=-1.492 total time=   0.0s\n",
      "[CV 3/5] END .................model__alpha=5.7;, score=-1.050 total time=   0.0s\n",
      "[CV 4/5] END .................model__alpha=5.7;, score=-1.562 total time=   0.0s\n",
      "[CV 5/5] END .................model__alpha=5.7;, score=-1.345 total time=   0.0s\n",
      "[CV 1/5] END ...model__alpha=5.800000000000001;, score=-0.971 total time=   0.0s\n",
      "[CV 2/5] END ...model__alpha=5.800000000000001;, score=-1.492 total time=   0.0s\n",
      "[CV 3/5] END ...model__alpha=5.800000000000001;, score=-1.050 total time=   0.0s\n",
      "[CV 4/5] END ...model__alpha=5.800000000000001;, score=-1.562 total time=   0.0s\n",
      "[CV 5/5] END ...model__alpha=5.800000000000001;, score=-1.345 total time=   0.0s\n",
      "[CV 1/5] END .................model__alpha=5.9;, score=-0.971 total time=   0.0s\n",
      "[CV 2/5] END .................model__alpha=5.9;, score=-1.492 total time=   0.0s\n",
      "[CV 3/5] END .................model__alpha=5.9;, score=-1.050 total time=   0.0s\n",
      "[CV 4/5] END .................model__alpha=5.9;, score=-1.562 total time=   0.0s\n",
      "[CV 5/5] END .................model__alpha=5.9;, score=-1.345 total time=   0.0s\n",
      "[CV 1/5] END .................model__alpha=6.0;, score=-0.971 total time=   0.0s\n",
      "[CV 2/5] END .................model__alpha=6.0;, score=-1.492 total time=   0.0s\n",
      "[CV 3/5] END .................model__alpha=6.0;, score=-1.050 total time=   0.0s\n",
      "[CV 4/5] END .................model__alpha=6.0;, score=-1.562 total time=   0.0s\n",
      "[CV 5/5] END .................model__alpha=6.0;, score=-1.345 total time=   0.0s\n",
      "[CV 1/5] END ..model__alpha=6.1000000000000005;, score=-0.971 total time=   0.0s\n",
      "[CV 2/5] END ..model__alpha=6.1000000000000005;, score=-1.492 total time=   0.0s\n",
      "[CV 3/5] END ..model__alpha=6.1000000000000005;, score=-1.050 total time=   0.0s\n",
      "[CV 4/5] END ..model__alpha=6.1000000000000005;, score=-1.562 total time=   0.0s\n",
      "[CV 5/5] END ..model__alpha=6.1000000000000005;, score=-1.345 total time=   0.0s\n",
      "[CV 1/5] END .................model__alpha=6.2;, score=-0.971 total time=   0.0s\n",
      "[CV 2/5] END .................model__alpha=6.2;, score=-1.492 total time=   0.0s\n",
      "[CV 3/5] END .................model__alpha=6.2;, score=-1.050 total time=   0.0s\n",
      "[CV 4/5] END .................model__alpha=6.2;, score=-1.562 total time=   0.0s\n",
      "[CV 5/5] END .................model__alpha=6.2;, score=-1.345 total time=   0.0s\n",
      "[CV 1/5] END ...model__alpha=6.300000000000001;, score=-0.971 total time=   0.0s\n",
      "[CV 2/5] END ...model__alpha=6.300000000000001;, score=-1.492 total time=   0.0s\n",
      "[CV 3/5] END ...model__alpha=6.300000000000001;, score=-1.050 total time=   0.0s\n",
      "[CV 4/5] END ...model__alpha=6.300000000000001;, score=-1.562 total time=   0.0s\n",
      "[CV 5/5] END ...model__alpha=6.300000000000001;, score=-1.345 total time=   0.0s\n",
      "[CV 1/5] END .................model__alpha=6.4;, score=-0.971 total time=   0.0s\n",
      "[CV 2/5] END .................model__alpha=6.4;, score=-1.492 total time=   0.0s\n",
      "[CV 3/5] END .................model__alpha=6.4;, score=-1.050 total time=   0.0s\n",
      "[CV 4/5] END .................model__alpha=6.4;, score=-1.562 total time=   0.0s\n",
      "[CV 5/5] END .................model__alpha=6.4;, score=-1.345 total time=   0.0s\n",
      "[CV 1/5] END .................model__alpha=6.5;, score=-0.971 total time=   0.0s\n",
      "[CV 2/5] END .................model__alpha=6.5;, score=-1.492 total time=   0.0s\n",
      "[CV 3/5] END .................model__alpha=6.5;, score=-1.050 total time=   0.0s\n",
      "[CV 4/5] END .................model__alpha=6.5;, score=-1.562 total time=   0.0s\n",
      "[CV 5/5] END .................model__alpha=6.5;, score=-1.345 total time=   0.0s\n",
      "[CV 1/5] END ..model__alpha=6.6000000000000005;, score=-0.971 total time=   0.0s\n",
      "[CV 2/5] END ..model__alpha=6.6000000000000005;, score=-1.492 total time=   0.0s\n",
      "[CV 3/5] END ..model__alpha=6.6000000000000005;, score=-1.050 total time=   0.0s\n",
      "[CV 4/5] END ..model__alpha=6.6000000000000005;, score=-1.562 total time=   0.0s\n",
      "[CV 5/5] END ..model__alpha=6.6000000000000005;, score=-1.345 total time=   0.0s\n",
      "[CV 1/5] END .................model__alpha=6.7;, score=-0.971 total time=   0.0s\n",
      "[CV 2/5] END .................model__alpha=6.7;, score=-1.492 total time=   0.0s\n",
      "[CV 3/5] END .................model__alpha=6.7;, score=-1.050 total time=   0.0s\n",
      "[CV 4/5] END .................model__alpha=6.7;, score=-1.562 total time=   0.0s\n",
      "[CV 5/5] END .................model__alpha=6.7;, score=-1.345 total time=   0.0s\n",
      "[CV 1/5] END ...model__alpha=6.800000000000001;, score=-0.971 total time=   0.0s\n",
      "[CV 2/5] END ...model__alpha=6.800000000000001;, score=-1.492 total time=   0.0s\n",
      "[CV 3/5] END ...model__alpha=6.800000000000001;, score=-1.050 total time=   0.0s\n",
      "[CV 4/5] END ...model__alpha=6.800000000000001;, score=-1.562 total time=   0.0s\n",
      "[CV 5/5] END ...model__alpha=6.800000000000001;, score=-1.345 total time=   0.0s\n",
      "[CV 1/5] END .................model__alpha=6.9;, score=-0.971 total time=   0.0s\n",
      "[CV 2/5] END .................model__alpha=6.9;, score=-1.492 total time=   0.0s\n",
      "[CV 3/5] END .................model__alpha=6.9;, score=-1.050 total time=   0.0s\n",
      "[CV 4/5] END .................model__alpha=6.9;, score=-1.562 total time=   0.0s\n",
      "[CV 5/5] END .................model__alpha=6.9;, score=-1.345 total time=   0.0s\n",
      "[CV 1/5] END .................model__alpha=7.0;, score=-0.971 total time=   0.0s\n",
      "[CV 2/5] END .................model__alpha=7.0;, score=-1.492 total time=   0.0s\n",
      "[CV 3/5] END .................model__alpha=7.0;, score=-1.050 total time=   0.0s\n",
      "[CV 4/5] END .................model__alpha=7.0;, score=-1.562 total time=   0.0s\n",
      "[CV 5/5] END .................model__alpha=7.0;, score=-1.345 total time=   0.0s\n",
      "[CV 1/5] END ..model__alpha=7.1000000000000005;, score=-0.971 total time=   0.0s\n",
      "[CV 2/5] END ..model__alpha=7.1000000000000005;, score=-1.492 total time=   0.0s\n",
      "[CV 3/5] END ..model__alpha=7.1000000000000005;, score=-1.050 total time=   0.0s\n",
      "[CV 4/5] END ..model__alpha=7.1000000000000005;, score=-1.562 total time=   0.0s\n",
      "[CV 5/5] END ..model__alpha=7.1000000000000005;, score=-1.345 total time=   0.0s\n",
      "[CV 1/5] END .................model__alpha=7.2;, score=-0.971 total time=   0.0s\n",
      "[CV 2/5] END .................model__alpha=7.2;, score=-1.492 total time=   0.0s\n",
      "[CV 3/5] END .................model__alpha=7.2;, score=-1.050 total time=   0.0s\n",
      "[CV 4/5] END .................model__alpha=7.2;, score=-1.562 total time=   0.0s\n",
      "[CV 5/5] END .................model__alpha=7.2;, score=-1.345 total time=   0.0s\n",
      "[CV 1/5] END ...model__alpha=7.300000000000001;, score=-0.971 total time=   0.0s\n",
      "[CV 2/5] END ...model__alpha=7.300000000000001;, score=-1.492 total time=   0.0s\n",
      "[CV 3/5] END ...model__alpha=7.300000000000001;, score=-1.050 total time=   0.0s\n",
      "[CV 4/5] END ...model__alpha=7.300000000000001;, score=-1.562 total time=   0.0s\n",
      "[CV 5/5] END ...model__alpha=7.300000000000001;, score=-1.345 total time=   0.0s\n",
      "[CV 1/5] END .................model__alpha=7.4;, score=-0.971 total time=   0.0s\n",
      "[CV 2/5] END .................model__alpha=7.4;, score=-1.492 total time=   0.0s\n",
      "[CV 3/5] END .................model__alpha=7.4;, score=-1.050 total time=   0.0s\n",
      "[CV 4/5] END .................model__alpha=7.4;, score=-1.562 total time=   0.0s\n",
      "[CV 5/5] END .................model__alpha=7.4;, score=-1.345 total time=   0.0s\n",
      "[CV 1/5] END .................model__alpha=7.5;, score=-0.971 total time=   0.0s\n",
      "[CV 2/5] END .................model__alpha=7.5;, score=-1.492 total time=   0.0s\n",
      "[CV 3/5] END .................model__alpha=7.5;, score=-1.050 total time=   0.0s\n",
      "[CV 4/5] END .................model__alpha=7.5;, score=-1.562 total time=   0.0s\n",
      "[CV 5/5] END .................model__alpha=7.5;, score=-1.345 total time=   0.0s\n",
      "[CV 1/5] END ..model__alpha=7.6000000000000005;, score=-0.971 total time=   0.0s\n",
      "[CV 2/5] END ..model__alpha=7.6000000000000005;, score=-1.492 total time=   0.0s\n",
      "[CV 3/5] END ..model__alpha=7.6000000000000005;, score=-1.050 total time=   0.0s\n",
      "[CV 4/5] END ..model__alpha=7.6000000000000005;, score=-1.562 total time=   0.0s\n",
      "[CV 5/5] END ..model__alpha=7.6000000000000005;, score=-1.345 total time=   0.0s\n",
      "[CV 1/5] END .................model__alpha=7.7;, score=-0.971 total time=   0.0s\n",
      "[CV 2/5] END .................model__alpha=7.7;, score=-1.492 total time=   0.0s\n",
      "[CV 3/5] END .................model__alpha=7.7;, score=-1.050 total time=   0.0s\n",
      "[CV 4/5] END .................model__alpha=7.7;, score=-1.562 total time=   0.0s\n",
      "[CV 5/5] END .................model__alpha=7.7;, score=-1.345 total time=   0.0s\n",
      "[CV 1/5] END ...model__alpha=7.800000000000001;, score=-0.971 total time=   0.0s\n",
      "[CV 2/5] END ...model__alpha=7.800000000000001;, score=-1.492 total time=   0.0s\n",
      "[CV 3/5] END ...model__alpha=7.800000000000001;, score=-1.050 total time=   0.0s\n",
      "[CV 4/5] END ...model__alpha=7.800000000000001;, score=-1.562 total time=   0.0s\n",
      "[CV 5/5] END ...model__alpha=7.800000000000001;, score=-1.345 total time=   0.0s\n",
      "[CV 1/5] END .................model__alpha=7.9;, score=-0.971 total time=   0.0s\n",
      "[CV 2/5] END .................model__alpha=7.9;, score=-1.492 total time=   0.0s\n",
      "[CV 3/5] END .................model__alpha=7.9;, score=-1.050 total time=   0.0s\n",
      "[CV 4/5] END .................model__alpha=7.9;, score=-1.562 total time=   0.0s\n",
      "[CV 5/5] END .................model__alpha=7.9;, score=-1.345 total time=   0.0s\n",
      "[CV 1/5] END .................model__alpha=8.0;, score=-0.971 total time=   0.0s\n",
      "[CV 2/5] END .................model__alpha=8.0;, score=-1.492 total time=   0.0s\n",
      "[CV 3/5] END .................model__alpha=8.0;, score=-1.050 total time=   0.0s\n",
      "[CV 4/5] END .................model__alpha=8.0;, score=-1.562 total time=   0.0s\n",
      "[CV 5/5] END .................model__alpha=8.0;, score=-1.345 total time=   0.0s\n",
      "[CV 1/5] END .................model__alpha=8.1;, score=-0.971 total time=   0.0s\n",
      "[CV 2/5] END .................model__alpha=8.1;, score=-1.492 total time=   0.0s\n",
      "[CV 3/5] END .................model__alpha=8.1;, score=-1.050 total time=   0.0s\n",
      "[CV 4/5] END .................model__alpha=8.1;, score=-1.562 total time=   0.0s\n",
      "[CV 5/5] END .................model__alpha=8.1;, score=-1.345 total time=   0.0s\n",
      "[CV 1/5] END ...model__alpha=8.200000000000001;, score=-0.971 total time=   0.0s\n",
      "[CV 2/5] END ...model__alpha=8.200000000000001;, score=-1.492 total time=   0.0s\n",
      "[CV 3/5] END ...model__alpha=8.200000000000001;, score=-1.050 total time=   0.0s\n",
      "[CV 4/5] END ...model__alpha=8.200000000000001;, score=-1.562 total time=   0.0s\n",
      "[CV 5/5] END ...model__alpha=8.200000000000001;, score=-1.345 total time=   0.0s\n",
      "[CV 1/5] END .................model__alpha=8.3;, score=-0.971 total time=   0.0s\n",
      "[CV 2/5] END .................model__alpha=8.3;, score=-1.492 total time=   0.0s\n",
      "[CV 3/5] END .................model__alpha=8.3;, score=-1.050 total time=   0.0s\n",
      "[CV 4/5] END .................model__alpha=8.3;, score=-1.562 total time=   0.0s\n",
      "[CV 5/5] END .................model__alpha=8.3;, score=-1.345 total time=   0.0s\n",
      "[CV 1/5] END .................model__alpha=8.4;, score=-0.971 total time=   0.0s\n",
      "[CV 2/5] END .................model__alpha=8.4;, score=-1.492 total time=   0.0s\n",
      "[CV 3/5] END .................model__alpha=8.4;, score=-1.050 total time=   0.0s\n",
      "[CV 4/5] END .................model__alpha=8.4;, score=-1.562 total time=   0.0s\n",
      "[CV 5/5] END .................model__alpha=8.4;, score=-1.345 total time=   0.0s\n",
      "[CV 1/5] END .................model__alpha=8.5;, score=-0.971 total time=   0.0s\n",
      "[CV 2/5] END .................model__alpha=8.5;, score=-1.492 total time=   0.0s\n",
      "[CV 3/5] END .................model__alpha=8.5;, score=-1.050 total time=   0.0s\n",
      "[CV 4/5] END .................model__alpha=8.5;, score=-1.562 total time=   0.0s\n",
      "[CV 5/5] END .................model__alpha=8.5;, score=-1.345 total time=   0.0s\n",
      "[CV 1/5] END .................model__alpha=8.6;, score=-0.971 total time=   0.0s\n",
      "[CV 2/5] END .................model__alpha=8.6;, score=-1.492 total time=   0.0s\n",
      "[CV 3/5] END .................model__alpha=8.6;, score=-1.050 total time=   0.0s\n",
      "[CV 4/5] END .................model__alpha=8.6;, score=-1.562 total time=   0.0s\n",
      "[CV 5/5] END .................model__alpha=8.6;, score=-1.345 total time=   0.0s\n",
      "[CV 1/5] END ...model__alpha=8.700000000000001;, score=-0.971 total time=   0.0s\n",
      "[CV 2/5] END ...model__alpha=8.700000000000001;, score=-1.492 total time=   0.0s\n",
      "[CV 3/5] END ...model__alpha=8.700000000000001;, score=-1.050 total time=   0.0s\n",
      "[CV 4/5] END ...model__alpha=8.700000000000001;, score=-1.562 total time=   0.0s\n",
      "[CV 5/5] END ...model__alpha=8.700000000000001;, score=-1.345 total time=   0.0s\n",
      "[CV 1/5] END .................model__alpha=8.8;, score=-0.971 total time=   0.0s\n",
      "[CV 2/5] END .................model__alpha=8.8;, score=-1.492 total time=   0.0s\n",
      "[CV 3/5] END .................model__alpha=8.8;, score=-1.050 total time=   0.0s\n",
      "[CV 4/5] END .................model__alpha=8.8;, score=-1.562 total time=   0.0s\n",
      "[CV 5/5] END .................model__alpha=8.8;, score=-1.345 total time=   0.0s\n",
      "[CV 1/5] END .................model__alpha=8.9;, score=-0.971 total time=   0.0s\n",
      "[CV 2/5] END .................model__alpha=8.9;, score=-1.492 total time=   0.0s\n",
      "[CV 3/5] END .................model__alpha=8.9;, score=-1.050 total time=   0.0s\n",
      "[CV 4/5] END .................model__alpha=8.9;, score=-1.562 total time=   0.0s\n",
      "[CV 5/5] END .................model__alpha=8.9;, score=-1.345 total time=   0.0s\n",
      "[CV 1/5] END .................model__alpha=9.0;, score=-0.971 total time=   0.0s\n",
      "[CV 2/5] END .................model__alpha=9.0;, score=-1.492 total time=   0.0s\n",
      "[CV 3/5] END .................model__alpha=9.0;, score=-1.050 total time=   0.0s\n",
      "[CV 4/5] END .................model__alpha=9.0;, score=-1.562 total time=   0.0s\n",
      "[CV 5/5] END .................model__alpha=9.0;, score=-1.345 total time=   0.0s\n",
      "[CV 1/5] END .................model__alpha=9.1;, score=-0.971 total time=   0.0s\n",
      "[CV 2/5] END .................model__alpha=9.1;, score=-1.492 total time=   0.0s\n",
      "[CV 3/5] END .................model__alpha=9.1;, score=-1.050 total time=   0.0s\n",
      "[CV 4/5] END .................model__alpha=9.1;, score=-1.562 total time=   0.0s\n",
      "[CV 5/5] END .................model__alpha=9.1;, score=-1.345 total time=   0.0s\n",
      "[CV 1/5] END ...model__alpha=9.200000000000001;, score=-0.971 total time=   0.0s\n",
      "[CV 2/5] END ...model__alpha=9.200000000000001;, score=-1.492 total time=   0.0s\n",
      "[CV 3/5] END ...model__alpha=9.200000000000001;, score=-1.050 total time=   0.0s\n",
      "[CV 4/5] END ...model__alpha=9.200000000000001;, score=-1.562 total time=   0.0s\n",
      "[CV 5/5] END ...model__alpha=9.200000000000001;, score=-1.345 total time=   0.0s\n",
      "[CV 1/5] END .................model__alpha=9.3;, score=-0.971 total time=   0.0s\n",
      "[CV 2/5] END .................model__alpha=9.3;, score=-1.492 total time=   0.0s\n",
      "[CV 3/5] END .................model__alpha=9.3;, score=-1.050 total time=   0.0s\n",
      "[CV 4/5] END .................model__alpha=9.3;, score=-1.562 total time=   0.0s\n",
      "[CV 5/5] END .................model__alpha=9.3;, score=-1.345 total time=   0.0s\n",
      "[CV 1/5] END .................model__alpha=9.4;, score=-0.971 total time=   0.0s\n",
      "[CV 2/5] END .................model__alpha=9.4;, score=-1.492 total time=   0.0s\n",
      "[CV 3/5] END .................model__alpha=9.4;, score=-1.050 total time=   0.0s\n",
      "[CV 4/5] END .................model__alpha=9.4;, score=-1.562 total time=   0.0s\n",
      "[CV 5/5] END .................model__alpha=9.4;, score=-1.345 total time=   0.0s\n",
      "[CV 1/5] END .................model__alpha=9.5;, score=-0.971 total time=   0.0s\n",
      "[CV 2/5] END .................model__alpha=9.5;, score=-1.492 total time=   0.0s\n",
      "[CV 3/5] END .................model__alpha=9.5;, score=-1.050 total time=   0.0s\n",
      "[CV 4/5] END .................model__alpha=9.5;, score=-1.562 total time=   0.0s\n",
      "[CV 5/5] END .................model__alpha=9.5;, score=-1.345 total time=   0.0s\n",
      "[CV 1/5] END ...model__alpha=9.600000000000001;, score=-0.971 total time=   0.0s\n",
      "[CV 2/5] END ...model__alpha=9.600000000000001;, score=-1.492 total time=   0.0s\n",
      "[CV 3/5] END ...model__alpha=9.600000000000001;, score=-1.050 total time=   0.0s\n",
      "[CV 4/5] END ...model__alpha=9.600000000000001;, score=-1.562 total time=   0.0s\n",
      "[CV 5/5] END ...model__alpha=9.600000000000001;, score=-1.345 total time=   0.0s\n",
      "[CV 1/5] END ...model__alpha=9.700000000000001;, score=-0.971 total time=   0.0s\n",
      "[CV 2/5] END ...model__alpha=9.700000000000001;, score=-1.492 total time=   0.0s\n",
      "[CV 3/5] END ...model__alpha=9.700000000000001;, score=-1.050 total time=   0.0s\n",
      "[CV 4/5] END ...model__alpha=9.700000000000001;, score=-1.562 total time=   0.0s\n",
      "[CV 5/5] END ...model__alpha=9.700000000000001;, score=-1.345 total time=   0.0s\n",
      "[CV 1/5] END .................model__alpha=9.8;, score=-0.971 total time=   0.0s\n",
      "[CV 2/5] END .................model__alpha=9.8;, score=-1.492 total time=   0.0s\n",
      "[CV 3/5] END .................model__alpha=9.8;, score=-1.050 total time=   0.0s\n",
      "[CV 4/5] END .................model__alpha=9.8;, score=-1.562 total time=   0.0s\n",
      "[CV 5/5] END .................model__alpha=9.8;, score=-1.345 total time=   0.0s\n",
      "[CV 1/5] END .................model__alpha=9.9;, score=-0.971 total time=   0.0s\n",
      "[CV 2/5] END .................model__alpha=9.9;, score=-1.492 total time=   0.0s\n",
      "[CV 3/5] END .................model__alpha=9.9;, score=-1.050 total time=   0.0s\n",
      "[CV 4/5] END .................model__alpha=9.9;, score=-1.562 total time=   0.0s\n",
      "[CV 5/5] END .................model__alpha=9.9;, score=-1.345 total time=   0.0s\n"
     ]
    },
    {
     "name": "stderr",
     "output_type": "stream",
     "text": [
      "/Users/macbook/opt/anaconda3/lib/python3.9/site-packages/sklearn/pipeline.py:346: UserWarning: With alpha=0, this algorithm does not converge well. You are advised to use the LinearRegression estimator\n",
      "  self._final_estimator.fit(Xt, y, **fit_params_last_step)\n",
      "/Users/macbook/opt/anaconda3/lib/python3.9/site-packages/sklearn/linear_model/_coordinate_descent.py:530: UserWarning: Coordinate descent with no regularization may lead to unexpected results and is discouraged.\n",
      "  model = cd_fast.enet_coordinate_descent(\n",
      "/Users/macbook/opt/anaconda3/lib/python3.9/site-packages/sklearn/linear_model/_coordinate_descent.py:530: ConvergenceWarning: Objective did not converge. You might want to increase the number of iterations. Duality gap: 9.351161928822847, tolerance: 0.015865308563709678\n",
      "  model = cd_fast.enet_coordinate_descent(\n"
     ]
    },
    {
     "data": {
      "text/plain": [
       "GridSearchCV(cv=5,\n",
       "             estimator=Pipeline(steps=[('scaler', MinMaxScaler()),\n",
       "                                       ('poly_features', PolynomialFeatures()),\n",
       "                                       ('model', ElasticNet())]),\n",
       "             param_grid={'model__alpha': array([0. , 0.1, 0.2, 0.3, 0.4, 0.5, 0.6, 0.7, 0.8, 0.9, 1. , 1.1, 1.2,\n",
       "       1.3, 1.4, 1.5, 1.6, 1.7, 1.8, 1.9, 2. , 2.1, 2.2, 2.3, 2.4, 2.5,\n",
       "       2.6, 2.7, 2.8, 2.9, 3. , 3.1, 3.2, 3.3, 3.4, 3.5, 3.6, 3.7, 3.8,\n",
       "       3.9, 4. , 4.1, 4.2, 4.3, 4.4, 4.5, 4.6, 4.7, 4.8, 4.9, 5. , 5.1,\n",
       "       5.2, 5.3, 5.4, 5.5, 5.6, 5.7, 5.8, 5.9, 6. , 6.1, 6.2, 6.3, 6.4,\n",
       "       6.5, 6.6, 6.7, 6.8, 6.9, 7. , 7.1, 7.2, 7.3, 7.4, 7.5, 7.6, 7.7,\n",
       "       7.8, 7.9, 8. , 8.1, 8.2, 8.3, 8.4, 8.5, 8.6, 8.7, 8.8, 8.9, 9. ,\n",
       "       9.1, 9.2, 9.3, 9.4, 9.5, 9.6, 9.7, 9.8, 9.9])},\n",
       "             scoring='neg_mean_squared_error', verbose=3)"
      ]
     },
     "execution_count": 31,
     "metadata": {},
     "output_type": "execute_result"
    }
   ],
   "source": [
    "search.fit(X_train, y_train)"
   ]
  },
  {
   "cell_type": "code",
   "execution_count": 32,
   "id": "70e85bf5",
   "metadata": {},
   "outputs": [
    {
     "data": {
      "text/plain": [
       "{'model__alpha': 0.0}"
      ]
     },
     "execution_count": 32,
     "metadata": {},
     "output_type": "execute_result"
    }
   ],
   "source": [
    "search.best_params_"
   ]
  },
  {
   "cell_type": "code",
   "execution_count": 33,
   "id": "11f3c2bf",
   "metadata": {},
   "outputs": [
    {
     "data": {
      "text/plain": [
       "Pipeline(steps=[('scaler', MinMaxScaler()),\n",
       "                ('poly_features', PolynomialFeatures()),\n",
       "                ('model', ElasticNet(alpha=0.0))])"
      ]
     },
     "execution_count": 33,
     "metadata": {},
     "output_type": "execute_result"
    }
   ],
   "source": [
    "search.best_estimator_"
   ]
  },
  {
   "cell_type": "code",
   "execution_count": 34,
   "id": "9740003d",
   "metadata": {},
   "outputs": [],
   "source": [
    "coefficients = search.best_estimator_.named_steps['model'].coef_"
   ]
  },
  {
   "cell_type": "code",
   "execution_count": 35,
   "id": "f36c39df",
   "metadata": {},
   "outputs": [
    {
     "data": {
      "text/plain": [
       "array([ 0.  ,  0.9 , -2.54, -0.83,  3.12, -0.58,  0.21, -0.93,  0.93,\n",
       "       -1.55,  0.5 ,  2.24,  3.23, -4.1 , 11.42,  1.16,  6.65,  3.58,\n",
       "       -1.36, -3.04, -3.62, -7.19, -0.54, -3.62,  0.74, -1.55,  1.07,\n",
       "       -0.26])"
      ]
     },
     "execution_count": 35,
     "metadata": {},
     "output_type": "execute_result"
    }
   ],
   "source": [
    "coefficients.round(2)"
   ]
  },
  {
   "cell_type": "code",
   "execution_count": 36,
   "id": "3bc2fbe2",
   "metadata": {},
   "outputs": [],
   "source": [
    "feature_names = search.best_estimator_.named_steps['poly_features'].get_feature_names()\n",
    "coef_df = pd.DataFrame(zip(feature_names, coefficients.round(3)), columns=['feature_name', 'coef'])"
   ]
  },
  {
   "cell_type": "code",
   "execution_count": 37,
   "id": "47edfadd",
   "metadata": {},
   "outputs": [
    {
     "data": {
      "text/html": [
       "<div>\n",
       "<style scoped>\n",
       "    .dataframe tbody tr th:only-of-type {\n",
       "        vertical-align: middle;\n",
       "    }\n",
       "\n",
       "    .dataframe tbody tr th {\n",
       "        vertical-align: top;\n",
       "    }\n",
       "\n",
       "    .dataframe thead th {\n",
       "        text-align: right;\n",
       "    }\n",
       "</style>\n",
       "<table border=\"1\" class=\"dataframe\">\n",
       "  <thead>\n",
       "    <tr style=\"text-align: right;\">\n",
       "      <th></th>\n",
       "      <th>feature_name</th>\n",
       "      <th>coef</th>\n",
       "    </tr>\n",
       "  </thead>\n",
       "  <tbody>\n",
       "    <tr>\n",
       "      <th>14</th>\n",
       "      <td>x1 x2</td>\n",
       "      <td>11.418</td>\n",
       "    </tr>\n",
       "    <tr>\n",
       "      <th>16</th>\n",
       "      <td>x1 x4</td>\n",
       "      <td>6.646</td>\n",
       "    </tr>\n",
       "    <tr>\n",
       "      <th>17</th>\n",
       "      <td>x1 x5</td>\n",
       "      <td>3.579</td>\n",
       "    </tr>\n",
       "    <tr>\n",
       "      <th>12</th>\n",
       "      <td>x0 x5</td>\n",
       "      <td>3.233</td>\n",
       "    </tr>\n",
       "    <tr>\n",
       "      <th>4</th>\n",
       "      <td>x3</td>\n",
       "      <td>3.118</td>\n",
       "    </tr>\n",
       "    <tr>\n",
       "      <th>11</th>\n",
       "      <td>x0 x4</td>\n",
       "      <td>2.235</td>\n",
       "    </tr>\n",
       "    <tr>\n",
       "      <th>15</th>\n",
       "      <td>x1 x3</td>\n",
       "      <td>1.161</td>\n",
       "    </tr>\n",
       "    <tr>\n",
       "      <th>26</th>\n",
       "      <td>x4 x5</td>\n",
       "      <td>1.070</td>\n",
       "    </tr>\n",
       "    <tr>\n",
       "      <th>8</th>\n",
       "      <td>x0 x1</td>\n",
       "      <td>0.935</td>\n",
       "    </tr>\n",
       "    <tr>\n",
       "      <th>1</th>\n",
       "      <td>x0</td>\n",
       "      <td>0.904</td>\n",
       "    </tr>\n",
       "  </tbody>\n",
       "</table>\n",
       "</div>"
      ],
      "text/plain": [
       "   feature_name    coef\n",
       "14        x1 x2  11.418\n",
       "16        x1 x4   6.646\n",
       "17        x1 x5   3.579\n",
       "12        x0 x5   3.233\n",
       "4            x3   3.118\n",
       "11        x0 x4   2.235\n",
       "15        x1 x3   1.161\n",
       "26        x4 x5   1.070\n",
       "8         x0 x1   0.935\n",
       "1            x0   0.904"
      ]
     },
     "execution_count": 37,
     "metadata": {},
     "output_type": "execute_result"
    }
   ],
   "source": [
    "coef_df.sort_values('coef', ascending=False)[:10]"
   ]
  },
  {
   "cell_type": "code",
   "execution_count": 38,
   "id": "f0d05e5a",
   "metadata": {},
   "outputs": [
    {
     "data": {
      "text/plain": [
       "{0: 'GDP per capita',\n",
       " 1: 'Social support',\n",
       " 2: 'Healthy life expectancy',\n",
       " 3: 'Freedom to make life choices',\n",
       " 4: 'Generosity',\n",
       " 5: 'Perceptions of corruption'}"
      ]
     },
     "execution_count": 38,
     "metadata": {},
     "output_type": "execute_result"
    }
   ],
   "source": [
    "X.columns.to_frame().reset_index(drop=True).to_dict()[0]"
   ]
  },
  {
   "cell_type": "code",
   "execution_count": 39,
   "id": "e169ce73",
   "metadata": {},
   "outputs": [
    {
     "data": {
      "text/plain": [
       "-0.2913222914546383"
      ]
     },
     "execution_count": 39,
     "metadata": {},
     "output_type": "execute_result"
    }
   ],
   "source": [
    "search.best_score_"
   ]
  },
  {
   "cell_type": "code",
   "execution_count": 40,
   "id": "ae3b0774",
   "metadata": {},
   "outputs": [],
   "source": [
    "best_model = search.best_estimator_\n",
    "\n",
    "y_grid_test = best_model.predict(X_test)"
   ]
  },
  {
   "cell_type": "code",
   "execution_count": 41,
   "id": "e92e1255",
   "metadata": {},
   "outputs": [],
   "source": [
    "models_pred['Polynomial'] = pol['pred']\n",
    "models_pred['Grid Search'] = y_grid_test"
   ]
  },
  {
   "cell_type": "code",
   "execution_count": 42,
   "id": "88c7b4a5",
   "metadata": {},
   "outputs": [
    {
     "name": "stdout",
     "output_type": "stream",
     "text": [
      "Gradient {'mse': 0.50461, 'rmse': 0.71036}\n",
      "Linear Model One Feature {'mse': 0.50791, 'rmse': 0.71268}\n",
      "Linear Model with 6 features {'mse': 0.41446, 'rmse': 0.64379}\n",
      "Polynomial {'mse': 0.42222, 'rmse': 0.64979}\n",
      "Grid Search {'mse': 0.3869, 'rmse': 0.62201}\n"
     ]
    }
   ],
   "source": [
    "for col in models_pred.columns:\n",
    "    print(col, get_metrics(y_test,models_pred[col]))"
   ]
  },
  {
   "cell_type": "code",
   "execution_count": 43,
   "id": "949ac75b",
   "metadata": {},
   "outputs": [
    {
     "data": {
      "text/html": [
       "<div>\n",
       "<style scoped>\n",
       "    .dataframe tbody tr th:only-of-type {\n",
       "        vertical-align: middle;\n",
       "    }\n",
       "\n",
       "    .dataframe tbody tr th {\n",
       "        vertical-align: top;\n",
       "    }\n",
       "\n",
       "    .dataframe thead th {\n",
       "        text-align: right;\n",
       "    }\n",
       "</style>\n",
       "<table border=\"1\" class=\"dataframe\">\n",
       "  <thead>\n",
       "    <tr style=\"text-align: right;\">\n",
       "      <th></th>\n",
       "      <th>model</th>\n",
       "      <th>mse</th>\n",
       "      <th>rmse</th>\n",
       "    </tr>\n",
       "  </thead>\n",
       "  <tbody>\n",
       "    <tr>\n",
       "      <th>0</th>\n",
       "      <td>Gradient</td>\n",
       "      <td>0.50461</td>\n",
       "      <td>0.71036</td>\n",
       "    </tr>\n",
       "    <tr>\n",
       "      <th>1</th>\n",
       "      <td>Linear Model One Feature</td>\n",
       "      <td>0.50791</td>\n",
       "      <td>0.71268</td>\n",
       "    </tr>\n",
       "    <tr>\n",
       "      <th>2</th>\n",
       "      <td>Linear Model with 6 features</td>\n",
       "      <td>0.41446</td>\n",
       "      <td>0.64379</td>\n",
       "    </tr>\n",
       "    <tr>\n",
       "      <th>3</th>\n",
       "      <td>Polynomial</td>\n",
       "      <td>0.42222</td>\n",
       "      <td>0.64979</td>\n",
       "    </tr>\n",
       "    <tr>\n",
       "      <th>4</th>\n",
       "      <td>Grid Search</td>\n",
       "      <td>0.38690</td>\n",
       "      <td>0.62201</td>\n",
       "    </tr>\n",
       "  </tbody>\n",
       "</table>\n",
       "</div>"
      ],
      "text/plain": [
       "                          model      mse     rmse\n",
       "0                      Gradient  0.50461  0.71036\n",
       "1      Linear Model One Feature  0.50791  0.71268\n",
       "2  Linear Model with 6 features  0.41446  0.64379\n",
       "3                    Polynomial  0.42222  0.64979\n",
       "4                   Grid Search  0.38690  0.62201"
      ]
     },
     "execution_count": 43,
     "metadata": {},
     "output_type": "execute_result"
    }
   ],
   "source": [
    "df_models = pd.DataFrame(columns=['model','mse', 'rmse'])\n",
    "\n",
    "for col in models_pred.columns:\n",
    "    df_models = df_models.append({'model': col, \n",
    "                          'mse': get_metrics(y_test,models_pred[col])['mse'], \n",
    "                          'rmse': get_metrics(y_test,models_pred[col])['rmse']}, ignore_index=True)\n",
    "\n",
    "df_models"
   ]
  },
  {
   "cell_type": "markdown",
   "id": "52acedac",
   "metadata": {},
   "source": [
    "Модель найденная в результате поиска гиперпараметров\n",
    "дала лучшие значения среднеквадратичной ошибки на тестовых данных"
   ]
  }
 ],
 "metadata": {
  "kernelspec": {
   "display_name": "Python 3 (ipykernel)",
   "language": "python",
   "name": "python3"
  },
  "language_info": {
   "codemirror_mode": {
    "name": "ipython",
    "version": 3
   },
   "file_extension": ".py",
   "mimetype": "text/x-python",
   "name": "python",
   "nbconvert_exporter": "python",
   "pygments_lexer": "ipython3",
   "version": "3.9.7"
  },
  "toc": {
   "base_numbering": 1,
   "nav_menu": {},
   "number_sections": true,
   "sideBar": true,
   "skip_h1_title": false,
   "title_cell": "Table of Contents",
   "title_sidebar": "Contents",
   "toc_cell": false,
   "toc_position": {},
   "toc_section_display": true,
   "toc_window_display": false
  }
 },
 "nbformat": 4,
 "nbformat_minor": 5
}
